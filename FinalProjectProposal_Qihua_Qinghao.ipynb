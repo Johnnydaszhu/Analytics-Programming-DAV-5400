{
 "cells": [
  {
   "cell_type": "markdown",
   "metadata": {},
   "source": [
    "# DAV 5400 Final Project Proposal"
   ]
  },
  {
   "cell_type": "markdown",
   "metadata": {},
   "source": [
    "Team member and Task Assigned:\n",
    "    - Qinghao Xia:\n",
    "        1. Data cleaning\n",
    "        2. Perform data transformation operation\n",
    "        3. Statistical analysis\n",
    "        4. One new feature\n",
    "    - Qihua Zhu:\n",
    "        1. Dataset import\n",
    "        2. Grouping or aggregation\n",
    "        3. Graphics analysis\n",
    "        4. One new feature"
   ]
  },
  {
   "cell_type": "markdown",
   "metadata": {},
   "source": [
    "## Introduction"
   ]
  },
  {
   "cell_type": "markdown",
   "metadata": {},
   "source": [
    "Applying for a college has never been easy, especially for a good for a student who is working on getting accepted by the top universities. The number of applications from freshman-year students has increased 7% over the last year while admission rate remain consisted. With the large increasing in the applications but consisting of admission, the accept rate has been dropped dramatically. Especially for the top universities, the competition in admission has increased rapidly. \n",
    "\n",
    "As one of the students who was struggling about choosing a good university, we use to striving about how to make our investment in education could have a better payback in the future. We may make some mistakes in choosing the university due to lack of information. Thus, we don't want a student who also makes a bad choice due to lack of information. Therefore, we want to find out what would affect the admission rate. For example, how would the admission rate in different colleges relate to the number of application, and the location of colleges?"
   ]
  },
  {
   "cell_type": "markdown",
   "metadata": {},
   "source": [
    "## Research Questions\n",
    "\n",
    "*Provide a single succinct sentence that describes each of your research questions. Then provide a paragraph or two explaining how the results of your research might be used/implemented in the \"real world\".*"
   ]
  },
  {
   "cell_type": "markdown",
   "metadata": {},
   "source": [
    "- How the average admission rate vary from states?（states data come from colleges csv file)\n",
    "- Are there any similarities do those colleges share in near admission rate?\n",
    "- Are students from the schools with lower admission rate could have higher income on average after graduate??\n",
    "- Are schools with higher admission rate always located at place with large population?\n",
    "- What is the trend of the average admission rate from 1990 to 2010 and does it goes along with trend of population?\n",
    "- What advantages and disadvantages that we have when comparing colleges with high and low admission rate?"
   ]
  },
  {
   "cell_type": "markdown",
   "metadata": {},
   "source": [
    "We believe that our reach could be very useful for the student who doesn't have any better insights and struggling in university-chosen. The United States is never equal in terms of income and the cost of leaving. Therefore, the tuition of colleges in different states varies from each other. The difference in the tuition maybe one major element affects the average admission rate of two same level universities in different states. For example, both Purdue University and the University of Maryland (UM) are in the middle rank of top 100 universities in the United States. However, Purdue is located at Indiana while the UM is in Maryland. Would the admission rate in the UM lower than Purdue University or not? The student who barely afford him- or herself may choose to go to Purdue University since the cost of leaving in Indiana maybe lower than Maryland or vice versa.\n",
    "\n",
    "Also, we want to see whether the universities that have close admission rate share some geographic locations, have a close sat, or have other similarities. So, the student who read our research will have a better understanding when he or she trying to make the final decision between two similar universities.\n",
    "\n",
    "One anther thing we want to investigate is how the population of each state affect the average admission rate in that states. We don't know if there is a relationship between these two variables or not. If there is a relationship we want to know what kind relationship it is in terms of strong or weak, and positive or negative. Also, we want to see the trend of the admission rate from 1990 to 2010 and see if the trendline goes along with the population trendline in certain state like New York State."
   ]
  },
  {
   "cell_type": "markdown",
   "metadata": {},
   "source": [
    "## Data to be Used\n",
    "\n",
    "### 1 College Scorecard Data\n",
    "Call the API provided from this link: https://collegescorecard.ed.gov/data/\n",
    "### 2 Population Data \n",
    "Call the API provided from this link: https://www.census.gov/data/developers/data-sets/decennial-census.html"
   ]
  },
  {
   "cell_type": "markdown",
   "metadata": {},
   "source": [
    "## Approach"
   ]
  },
  {
   "cell_type": "markdown",
   "metadata": {},
   "source": [
    "1. Explore some correlation with admission rate with scatterplot\n",
    "2. Create a set of bin of admission rate and try to find the similarities of different bin range\n",
    "3. Do a dimensionality reduction with admission rate relationship\n",
    "4. Use Map virtualization with the data that relates to location\n",
    "5. Make a mini chatbot to help us find a college by answering some questions"
   ]
  },
  {
   "cell_type": "markdown",
   "metadata": {},
   "source": [
    "Since the project requires the data from the different resources, we decide to use the online repository, which called GitHub, to store the database. The data resource are the csv. file download from the college scorecard data and the API provided by the \"[census.gov](http://census.gov/)\". Since the databases from both sides contain a huge amount of the information, we decide to only use the data related to our researches. At this moment, we decide to use the correlation analysis to help answer our questions since most of our questions based on the relationship between variables.\n",
    "\n",
    "Also, we are planning to use the bar-plot, scatter-plot, and line-plot as the major sources the achieve the data visualization tasks. For instance, we will attempt to build a scatter-plot to show the relationship between the income or cost level of the states and the average admission rate of the colleges in those states. We want to construct a bar-plot to show the number of student been accepted in a certain year (maybe sorted and limited to top 10 or 15 universities). Also, we can construct the line-chart to see the trends of the admission rate of a certain school. We might use other types of charts depend on the analysis.\n",
    "\n",
    "Since the university-chosen has never been easy, we want to help the student have a better choice. We believe the student would have a better understanding of university admission in the United States after reading our analysis."
   ]
  },
  {
   "cell_type": "markdown",
   "metadata": {},
   "source": [
    "## Features that didn't cover on class:\n",
    "Use Map virtualization with the data that relates to location\n",
    "\n",
    "Make a mini chatbot to help us find a college by answering some questions(if time allows)\n"
   ]
  },
  {
   "cell_type": "code",
   "execution_count": null,
   "metadata": {},
   "outputs": [],
   "source": []
  }
 ],
 "metadata": {
  "kernelspec": {
   "display_name": "Python 3",
   "language": "python",
   "name": "python3"
  },
  "language_info": {
   "codemirror_mode": {
    "name": "ipython",
    "version": 3
   },
   "file_extension": ".py",
   "mimetype": "text/x-python",
   "name": "python",
   "nbconvert_exporter": "python",
   "pygments_lexer": "ipython3",
   "version": "3.7.2"
  }
 },
 "nbformat": 4,
 "nbformat_minor": 2
}
