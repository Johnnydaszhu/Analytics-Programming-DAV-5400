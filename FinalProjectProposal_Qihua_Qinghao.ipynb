{
 "cells": [
  {
   "cell_type": "markdown",
   "metadata": {},
   "source": [
    "# DAV 5400 Final Project Proposal"
   ]
  },
  {
   "cell_type": "markdown",
   "metadata": {},
   "source": [
    "Team member and Task Assigned:\n",
    "    - Qinghao Xia:\n",
    "        1. Data cleaning\n",
    "        2. Perform data transformation operation\n",
    "        3. Statistical analysis\n",
    "        4. One new feature\n",
    "    - Qihua Zhu:\n",
    "        1. Dataset import\n",
    "        2. Grouping or aggregation\n",
    "        3. Graphics analysis\n",
    "        4. One new feature"
   ]
  },
  {
   "cell_type": "markdown",
   "metadata": {},
   "source": [
    "## Introduction"
   ]
  },
  {
   "cell_type": "markdown",
   "metadata": {},
   "source": [
    "Applying for a college has never been easy, especially for a good one. The number of applications from first-year students has increased 7% over the last year while admission rate remain consisted. We want to find out what would affect the admission rate. For example, how would admission rate in different colleges relate to ranking, number of application, and the location of colleges."
   ]
  },
  {
   "cell_type": "markdown",
   "metadata": {},
   "source": [
    "## Research Questions\n",
    "\n",
    "*Provide a single succinct sentence that describes each of your research questions. Then provide a paragraph or two explaining how the results of your research might be used/implemented in the \"real world\".*"
   ]
  },
  {
   "cell_type": "markdown",
   "metadata": {},
   "source": [
    "- How the average admission rate vary from states?\n",
    "- Are there any similarities do those colleges share in near admission rate?\n",
    "- How does the admission rate relate to ranking?\n",
    "- Are schools with lower admission rate are mostly better? \n",
    "- What advantages and disadvantages that we have when comparing colleges with high and low?"
   ]
  },
  {
   "cell_type": "markdown",
   "metadata": {},
   "source": [
    "## Data to be Used\n",
    "\n",
    "### 1 College Scorecard Data\n",
    "Call the API provided from this link: https://collegescorecard.ed.gov/data/documentation/\n",
    "### 2 Income Data\n",
    "Download the excel file from this link: https://www.census.gov/data/tables/2018/demo/income-poverty/p60-263.html"
   ]
  },
  {
   "cell_type": "markdown",
   "metadata": {},
   "source": [
    "## Approach"
   ]
  },
  {
   "cell_type": "markdown",
   "metadata": {},
   "source": [
    "1. Explore some correlation with admission rate with scatterplot\n",
    "2. Create a set of bin of admission rate and try to find the similarities of different bin range\n",
    "3. Do a dimensionality reduction with admission rate relationship\n",
    "4. Use Map virtualization with the data that relates to location\n",
    "5. Make a mini chatbot to help us find a college by answering some questions（if we have more time)"
   ]
  },
  {
   "cell_type": "markdown",
   "metadata": {},
   "source": [
    "Since the project requires the data from the different resources, we decide to use the online repository, which called GitHub, to store the database. The data resource are the csv. file download from the college scorecard data and the API provided by the \"[census.gov](http://census.gov/)\". Since the databases from both sides contain a huge amount of the information, we decide to only use the data related to our researches. At this moment, we decide to use the correlation analysis to help answer our questions since most of our questions based on the relationship between variables.\n",
    "\n",
    "Also, we are planning to use the bar-plot, scatter-plot, and line-plot as the major sources the achieve the data visualization tasks. For instance, we will attempt to build a scatter-plot to show the relationship between the income or cost level of the states and the average admission rate of the colleges in those states. We want to construct a bar-plot to show the number of student been accepted in a certain year (maybe sorted and limited to top 10 or 15 universities). Also, we can construct the line-chart to see the trends of the admission rate of a certain school. We might use other types of charts depend on the analysis.\n",
    "\n",
    "Since the university-chosen has never been easy, we want to help the student have a better choice. We believe the student would have a better understanding of university admission in the United States after reading our analysis."
   ]
  },
  {
   "cell_type": "code",
   "execution_count": null,
   "metadata": {},
   "outputs": [],
   "source": []
  }
 ],
 "metadata": {
  "kernelspec": {
   "display_name": "Python 3",
   "language": "python",
   "name": "python3"
  },
  "language_info": {
   "codemirror_mode": {
    "name": "ipython",
    "version": 3
   },
   "file_extension": ".py",
   "mimetype": "text/x-python",
   "name": "python",
   "nbconvert_exporter": "python",
   "pygments_lexer": "ipython3",
   "version": "3.7.2"
  }
 },
 "nbformat": 4,
 "nbformat_minor": 2
}
