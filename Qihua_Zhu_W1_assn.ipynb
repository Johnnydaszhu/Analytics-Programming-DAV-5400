{
 "cells": [
  {
   "cell_type": "markdown",
   "metadata": {},
   "source": [
    "# Week 1 Assignment"
   ]
  },
  {
   "cell_type": "markdown",
   "metadata": {},
   "source": [
    "## Database Github link: \n",
    "https://github.com/Johnnydaszhu/DAV-5400/blob/master/auto-mpg.data.csv",
    "\n",
    "## Database Original link:\n",
    "https://archive.ics.uci.edu/ml/datasets/Auto+MPG\n"
   ]
  },
  {
   "cell_type": "markdown",
   "metadata": {},
   "source": [
    "### Choosing Reason:\n",
    "The dataset is small and clean which is easy to practice data analytics and virtualize.\n",
    "\n",
    "### Plan:\n",
    "Find out more relations and inights other than mutil-regression for counting a MPG;"
   ]
  }
 ],
 "metadata": {
  "kernelspec": {
   "display_name": "Python 3",
   "language": "python",
   "name": "python3"
  },
  "language_info": {
   "codemirror_mode": {
    "name": "ipython",
    "version": 3
   },
   "file_extension": ".py",
   "mimetype": "text/x-python",
   "name": "python",
   "nbconvert_exporter": "python",
   "pygments_lexer": "ipython3",
   "version": "3.7.0"
  }
 },
 "nbformat": 4,
 "nbformat_minor": 2
}
