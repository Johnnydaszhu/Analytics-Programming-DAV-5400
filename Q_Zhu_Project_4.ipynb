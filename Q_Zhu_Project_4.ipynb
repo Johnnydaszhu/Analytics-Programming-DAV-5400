{
 "cells": [
  {
   "cell_type": "markdown",
   "metadata": {},
   "source": [
    "# Project 4 \n",
    "\n",
    "## Team member: Randy Xia, Qihua Zhu\n",
    "\n",
    "## Phase I"
   ]
  },
  {
   "cell_type": "markdown",
   "metadata": {},
   "source": [
    "## Import modules"
   ]
  },
  {
   "cell_type": "code",
   "execution_count": 1,
   "metadata": {},
   "outputs": [],
   "source": [
    "import numpy as np\n",
    "import pandas as pd\n",
    "import statsmodels.api as sm\n",
    "import matplotlib.pyplot as plt\n",
    "from patsy import dmatrices\n",
    "from sklearn.linear_model import LogisticRegression\n",
    "from sklearn.model_selection import train_test_split\n",
    "from sklearn import metrics\n",
    "from sklearn.model_selection import cross_val_score"
   ]
  },
  {
   "cell_type": "markdown",
   "metadata": {},
   "source": [
    "## Load and prepare the dataset"
   ]
  },
  {
   "cell_type": "code",
   "execution_count": 2,
   "metadata": {},
   "outputs": [
    {
     "data": {
      "text/html": [
       "<div>\n",
       "<style scoped>\n",
       "    .dataframe tbody tr th:only-of-type {\n",
       "        vertical-align: middle;\n",
       "    }\n",
       "\n",
       "    .dataframe tbody tr th {\n",
       "        vertical-align: top;\n",
       "    }\n",
       "\n",
       "    .dataframe thead th {\n",
       "        text-align: right;\n",
       "    }\n",
       "</style>\n",
       "<table border=\"1\" class=\"dataframe\">\n",
       "  <thead>\n",
       "    <tr style=\"text-align: right;\">\n",
       "      <th></th>\n",
       "      <th>0</th>\n",
       "      <th>1</th>\n",
       "      <th>2</th>\n",
       "      <th>3</th>\n",
       "      <th>4</th>\n",
       "      <th>5</th>\n",
       "      <th>6</th>\n",
       "      <th>7</th>\n",
       "      <th>8</th>\n",
       "      <th>9</th>\n",
       "      <th>...</th>\n",
       "      <th>13</th>\n",
       "      <th>14</th>\n",
       "      <th>15</th>\n",
       "      <th>16</th>\n",
       "      <th>17</th>\n",
       "      <th>18</th>\n",
       "      <th>19</th>\n",
       "      <th>20</th>\n",
       "      <th>21</th>\n",
       "      <th>22</th>\n",
       "    </tr>\n",
       "  </thead>\n",
       "  <tbody>\n",
       "    <tr>\n",
       "      <th>0</th>\n",
       "      <td>p</td>\n",
       "      <td>x</td>\n",
       "      <td>s</td>\n",
       "      <td>n</td>\n",
       "      <td>t</td>\n",
       "      <td>p</td>\n",
       "      <td>f</td>\n",
       "      <td>c</td>\n",
       "      <td>n</td>\n",
       "      <td>k</td>\n",
       "      <td>...</td>\n",
       "      <td>s</td>\n",
       "      <td>w</td>\n",
       "      <td>w</td>\n",
       "      <td>p</td>\n",
       "      <td>w</td>\n",
       "      <td>o</td>\n",
       "      <td>p</td>\n",
       "      <td>k</td>\n",
       "      <td>s</td>\n",
       "      <td>u</td>\n",
       "    </tr>\n",
       "    <tr>\n",
       "      <th>1</th>\n",
       "      <td>e</td>\n",
       "      <td>x</td>\n",
       "      <td>s</td>\n",
       "      <td>y</td>\n",
       "      <td>t</td>\n",
       "      <td>a</td>\n",
       "      <td>f</td>\n",
       "      <td>c</td>\n",
       "      <td>b</td>\n",
       "      <td>k</td>\n",
       "      <td>...</td>\n",
       "      <td>s</td>\n",
       "      <td>w</td>\n",
       "      <td>w</td>\n",
       "      <td>p</td>\n",
       "      <td>w</td>\n",
       "      <td>o</td>\n",
       "      <td>p</td>\n",
       "      <td>n</td>\n",
       "      <td>n</td>\n",
       "      <td>g</td>\n",
       "    </tr>\n",
       "    <tr>\n",
       "      <th>2</th>\n",
       "      <td>e</td>\n",
       "      <td>b</td>\n",
       "      <td>s</td>\n",
       "      <td>w</td>\n",
       "      <td>t</td>\n",
       "      <td>l</td>\n",
       "      <td>f</td>\n",
       "      <td>c</td>\n",
       "      <td>b</td>\n",
       "      <td>n</td>\n",
       "      <td>...</td>\n",
       "      <td>s</td>\n",
       "      <td>w</td>\n",
       "      <td>w</td>\n",
       "      <td>p</td>\n",
       "      <td>w</td>\n",
       "      <td>o</td>\n",
       "      <td>p</td>\n",
       "      <td>n</td>\n",
       "      <td>n</td>\n",
       "      <td>m</td>\n",
       "    </tr>\n",
       "    <tr>\n",
       "      <th>3</th>\n",
       "      <td>p</td>\n",
       "      <td>x</td>\n",
       "      <td>y</td>\n",
       "      <td>w</td>\n",
       "      <td>t</td>\n",
       "      <td>p</td>\n",
       "      <td>f</td>\n",
       "      <td>c</td>\n",
       "      <td>n</td>\n",
       "      <td>n</td>\n",
       "      <td>...</td>\n",
       "      <td>s</td>\n",
       "      <td>w</td>\n",
       "      <td>w</td>\n",
       "      <td>p</td>\n",
       "      <td>w</td>\n",
       "      <td>o</td>\n",
       "      <td>p</td>\n",
       "      <td>k</td>\n",
       "      <td>s</td>\n",
       "      <td>u</td>\n",
       "    </tr>\n",
       "    <tr>\n",
       "      <th>4</th>\n",
       "      <td>e</td>\n",
       "      <td>x</td>\n",
       "      <td>s</td>\n",
       "      <td>g</td>\n",
       "      <td>f</td>\n",
       "      <td>n</td>\n",
       "      <td>f</td>\n",
       "      <td>w</td>\n",
       "      <td>b</td>\n",
       "      <td>k</td>\n",
       "      <td>...</td>\n",
       "      <td>s</td>\n",
       "      <td>w</td>\n",
       "      <td>w</td>\n",
       "      <td>p</td>\n",
       "      <td>w</td>\n",
       "      <td>o</td>\n",
       "      <td>e</td>\n",
       "      <td>n</td>\n",
       "      <td>a</td>\n",
       "      <td>g</td>\n",
       "    </tr>\n",
       "  </tbody>\n",
       "</table>\n",
       "<p>5 rows × 23 columns</p>\n",
       "</div>"
      ],
      "text/plain": [
       "  0  1  2  3  4  5  6  7  8  9   ... 13 14 15 16 17 18 19 20 21 22\n",
       "0  p  x  s  n  t  p  f  c  n  k  ...  s  w  w  p  w  o  p  k  s  u\n",
       "1  e  x  s  y  t  a  f  c  b  k  ...  s  w  w  p  w  o  p  n  n  g\n",
       "2  e  b  s  w  t  l  f  c  b  n  ...  s  w  w  p  w  o  p  n  n  m\n",
       "3  p  x  y  w  t  p  f  c  n  n  ...  s  w  w  p  w  o  p  k  s  u\n",
       "4  e  x  s  g  f  n  f  w  b  k  ...  s  w  w  p  w  o  e  n  a  g\n",
       "\n",
       "[5 rows x 23 columns]"
      ]
     },
     "execution_count": 2,
     "metadata": {},
     "output_type": "execute_result"
    }
   ],
   "source": [
    "# load the dataset\n",
    "mr_df = pd.read_csv(\"https://archive.ics.uci.edu/ml/machine-learning-databases/mushroom/agaricus-lepiota.data\", header = None)\n",
    "mr_df.head(5)"
   ]
  },
  {
   "cell_type": "markdown",
   "metadata": {},
   "source": [
    "After review the dataset dictionary and study same information of mushroom online, we think the factor that could affect the ediability of certain kind of mushroom could be the surface and color of the cap, the color of the gill, the habitatm, and the odor of the mushroom."
   ]
  },
  {
   "cell_type": "code",
   "execution_count": 3,
   "metadata": {},
   "outputs": [],
   "source": [
    "# create a subset of 5 columns, including 'edible' + 'poisonous'\n",
    "# use the 'copy()' function if you want to preserve the original data frame\n",
    "mr_sub = mr_df.iloc[:, [0, 2, 3, 10, 5]].copy()"
   ]
  },
  {
   "cell_type": "code",
   "execution_count": 4,
   "metadata": {},
   "outputs": [
    {
     "data": {
      "text/html": [
       "<div>\n",
       "<style scoped>\n",
       "    .dataframe tbody tr th:only-of-type {\n",
       "        vertical-align: middle;\n",
       "    }\n",
       "\n",
       "    .dataframe tbody tr th {\n",
       "        vertical-align: top;\n",
       "    }\n",
       "\n",
       "    .dataframe thead th {\n",
       "        text-align: right;\n",
       "    }\n",
       "</style>\n",
       "<table border=\"1\" class=\"dataframe\">\n",
       "  <thead>\n",
       "    <tr style=\"text-align: right;\">\n",
       "      <th></th>\n",
       "      <th>0</th>\n",
       "      <th>2</th>\n",
       "      <th>3</th>\n",
       "      <th>10</th>\n",
       "      <th>5</th>\n",
       "    </tr>\n",
       "  </thead>\n",
       "  <tbody>\n",
       "    <tr>\n",
       "      <th>0</th>\n",
       "      <td>p</td>\n",
       "      <td>s</td>\n",
       "      <td>n</td>\n",
       "      <td>e</td>\n",
       "      <td>p</td>\n",
       "    </tr>\n",
       "    <tr>\n",
       "      <th>1</th>\n",
       "      <td>e</td>\n",
       "      <td>s</td>\n",
       "      <td>y</td>\n",
       "      <td>e</td>\n",
       "      <td>a</td>\n",
       "    </tr>\n",
       "    <tr>\n",
       "      <th>2</th>\n",
       "      <td>e</td>\n",
       "      <td>s</td>\n",
       "      <td>w</td>\n",
       "      <td>e</td>\n",
       "      <td>l</td>\n",
       "    </tr>\n",
       "    <tr>\n",
       "      <th>3</th>\n",
       "      <td>p</td>\n",
       "      <td>y</td>\n",
       "      <td>w</td>\n",
       "      <td>e</td>\n",
       "      <td>p</td>\n",
       "    </tr>\n",
       "    <tr>\n",
       "      <th>4</th>\n",
       "      <td>e</td>\n",
       "      <td>s</td>\n",
       "      <td>g</td>\n",
       "      <td>t</td>\n",
       "      <td>n</td>\n",
       "    </tr>\n",
       "    <tr>\n",
       "      <th>5</th>\n",
       "      <td>e</td>\n",
       "      <td>y</td>\n",
       "      <td>y</td>\n",
       "      <td>e</td>\n",
       "      <td>a</td>\n",
       "    </tr>\n",
       "    <tr>\n",
       "      <th>6</th>\n",
       "      <td>e</td>\n",
       "      <td>s</td>\n",
       "      <td>w</td>\n",
       "      <td>e</td>\n",
       "      <td>a</td>\n",
       "    </tr>\n",
       "    <tr>\n",
       "      <th>7</th>\n",
       "      <td>e</td>\n",
       "      <td>y</td>\n",
       "      <td>w</td>\n",
       "      <td>e</td>\n",
       "      <td>l</td>\n",
       "    </tr>\n",
       "    <tr>\n",
       "      <th>8</th>\n",
       "      <td>p</td>\n",
       "      <td>y</td>\n",
       "      <td>w</td>\n",
       "      <td>e</td>\n",
       "      <td>p</td>\n",
       "    </tr>\n",
       "    <tr>\n",
       "      <th>9</th>\n",
       "      <td>e</td>\n",
       "      <td>s</td>\n",
       "      <td>y</td>\n",
       "      <td>e</td>\n",
       "      <td>a</td>\n",
       "    </tr>\n",
       "  </tbody>\n",
       "</table>\n",
       "</div>"
      ],
      "text/plain": [
       "  0  2  3  10 5 \n",
       "0  p  s  n  e  p\n",
       "1  e  s  y  e  a\n",
       "2  e  s  w  e  l\n",
       "3  p  y  w  e  p\n",
       "4  e  s  g  t  n\n",
       "5  e  y  y  e  a\n",
       "6  e  s  w  e  a\n",
       "7  e  y  w  e  l\n",
       "8  p  y  w  e  p\n",
       "9  e  s  y  e  a"
      ]
     },
     "execution_count": 4,
     "metadata": {},
     "output_type": "execute_result"
    }
   ],
   "source": [
    "# check results: do we have the columns we want? Check the first 10 rows\n",
    "mr_sub.head(10)"
   ]
  },
  {
   "cell_type": "markdown",
   "metadata": {},
   "source": [
    "Add the meaningful name for the columns of the sub-dataset."
   ]
  },
  {
   "cell_type": "code",
   "execution_count": 5,
   "metadata": {},
   "outputs": [
    {
     "data": {
      "text/html": [
       "<div>\n",
       "<style scoped>\n",
       "    .dataframe tbody tr th:only-of-type {\n",
       "        vertical-align: middle;\n",
       "    }\n",
       "\n",
       "    .dataframe tbody tr th {\n",
       "        vertical-align: top;\n",
       "    }\n",
       "\n",
       "    .dataframe thead th {\n",
       "        text-align: right;\n",
       "    }\n",
       "</style>\n",
       "<table border=\"1\" class=\"dataframe\">\n",
       "  <thead>\n",
       "    <tr style=\"text-align: right;\">\n",
       "      <th></th>\n",
       "      <th>Is_Poisonous</th>\n",
       "      <th>Cap_Surface</th>\n",
       "      <th>Cap_Color</th>\n",
       "      <th>Stalk_Shape</th>\n",
       "      <th>Odor</th>\n",
       "    </tr>\n",
       "  </thead>\n",
       "  <tbody>\n",
       "    <tr>\n",
       "      <th>0</th>\n",
       "      <td>p</td>\n",
       "      <td>s</td>\n",
       "      <td>n</td>\n",
       "      <td>e</td>\n",
       "      <td>p</td>\n",
       "    </tr>\n",
       "    <tr>\n",
       "      <th>1</th>\n",
       "      <td>e</td>\n",
       "      <td>s</td>\n",
       "      <td>y</td>\n",
       "      <td>e</td>\n",
       "      <td>a</td>\n",
       "    </tr>\n",
       "    <tr>\n",
       "      <th>2</th>\n",
       "      <td>e</td>\n",
       "      <td>s</td>\n",
       "      <td>w</td>\n",
       "      <td>e</td>\n",
       "      <td>l</td>\n",
       "    </tr>\n",
       "    <tr>\n",
       "      <th>3</th>\n",
       "      <td>p</td>\n",
       "      <td>y</td>\n",
       "      <td>w</td>\n",
       "      <td>e</td>\n",
       "      <td>p</td>\n",
       "    </tr>\n",
       "    <tr>\n",
       "      <th>4</th>\n",
       "      <td>e</td>\n",
       "      <td>s</td>\n",
       "      <td>g</td>\n",
       "      <td>t</td>\n",
       "      <td>n</td>\n",
       "    </tr>\n",
       "  </tbody>\n",
       "</table>\n",
       "</div>"
      ],
      "text/plain": [
       "  Is_Poisonous Cap_Surface Cap_Color Stalk_Shape Odor\n",
       "0            p           s         n           e    p\n",
       "1            e           s         y           e    a\n",
       "2            e           s         w           e    l\n",
       "3            p           y         w           e    p\n",
       "4            e           s         g           t    n"
      ]
     },
     "execution_count": 5,
     "metadata": {},
     "output_type": "execute_result"
    }
   ],
   "source": [
    "# add meaningful column names\n",
    "mr_sub.columns = ['Is_Poisonous','Cap_Surface', 'Cap_Color', 'Stalk_Shape' ,'Odor']\n",
    "\n",
    "# sanity check\n",
    "mr_sub.head(5)"
   ]
  },
  {
   "cell_type": "markdown",
   "metadata": {},
   "source": [
    "Replace the single letter abbreviations used in the data with more descriptive character strings"
   ]
  },
  {
   "cell_type": "code",
   "execution_count": 6,
   "metadata": {},
   "outputs": [
    {
     "data": {
      "text/html": [
       "<div>\n",
       "<style scoped>\n",
       "    .dataframe tbody tr th:only-of-type {\n",
       "        vertical-align: middle;\n",
       "    }\n",
       "\n",
       "    .dataframe tbody tr th {\n",
       "        vertical-align: top;\n",
       "    }\n",
       "\n",
       "    .dataframe thead th {\n",
       "        text-align: right;\n",
       "    }\n",
       "</style>\n",
       "<table border=\"1\" class=\"dataframe\">\n",
       "  <thead>\n",
       "    <tr style=\"text-align: right;\">\n",
       "      <th></th>\n",
       "      <th>Is_Poisonous</th>\n",
       "      <th>Cap_Surface</th>\n",
       "      <th>Cap_Color</th>\n",
       "      <th>Stalk_Shape</th>\n",
       "      <th>Odor</th>\n",
       "    </tr>\n",
       "  </thead>\n",
       "  <tbody>\n",
       "    <tr>\n",
       "      <th>0</th>\n",
       "      <td>1</td>\n",
       "      <td>smooth</td>\n",
       "      <td>brown</td>\n",
       "      <td>enlarging</td>\n",
       "      <td>pungent</td>\n",
       "    </tr>\n",
       "    <tr>\n",
       "      <th>1</th>\n",
       "      <td>0</td>\n",
       "      <td>smooth</td>\n",
       "      <td>yellow</td>\n",
       "      <td>enlarging</td>\n",
       "      <td>almond</td>\n",
       "    </tr>\n",
       "    <tr>\n",
       "      <th>2</th>\n",
       "      <td>0</td>\n",
       "      <td>smooth</td>\n",
       "      <td>white</td>\n",
       "      <td>enlarging</td>\n",
       "      <td>anise</td>\n",
       "    </tr>\n",
       "    <tr>\n",
       "      <th>3</th>\n",
       "      <td>1</td>\n",
       "      <td>scaly</td>\n",
       "      <td>white</td>\n",
       "      <td>enlarging</td>\n",
       "      <td>pungent</td>\n",
       "    </tr>\n",
       "    <tr>\n",
       "      <th>4</th>\n",
       "      <td>0</td>\n",
       "      <td>smooth</td>\n",
       "      <td>gray</td>\n",
       "      <td>tapering</td>\n",
       "      <td>none</td>\n",
       "    </tr>\n",
       "    <tr>\n",
       "      <th>5</th>\n",
       "      <td>0</td>\n",
       "      <td>scaly</td>\n",
       "      <td>yellow</td>\n",
       "      <td>enlarging</td>\n",
       "      <td>almond</td>\n",
       "    </tr>\n",
       "    <tr>\n",
       "      <th>6</th>\n",
       "      <td>0</td>\n",
       "      <td>smooth</td>\n",
       "      <td>white</td>\n",
       "      <td>enlarging</td>\n",
       "      <td>almond</td>\n",
       "    </tr>\n",
       "    <tr>\n",
       "      <th>7</th>\n",
       "      <td>0</td>\n",
       "      <td>scaly</td>\n",
       "      <td>white</td>\n",
       "      <td>enlarging</td>\n",
       "      <td>anise</td>\n",
       "    </tr>\n",
       "    <tr>\n",
       "      <th>8</th>\n",
       "      <td>1</td>\n",
       "      <td>scaly</td>\n",
       "      <td>white</td>\n",
       "      <td>enlarging</td>\n",
       "      <td>pungent</td>\n",
       "    </tr>\n",
       "    <tr>\n",
       "      <th>9</th>\n",
       "      <td>0</td>\n",
       "      <td>smooth</td>\n",
       "      <td>yellow</td>\n",
       "      <td>enlarging</td>\n",
       "      <td>almond</td>\n",
       "    </tr>\n",
       "  </tbody>\n",
       "</table>\n",
       "</div>"
      ],
      "text/plain": [
       "  Is_Poisonous Cap_Surface Cap_Color Stalk_Shape     Odor\n",
       "0            1      smooth     brown   enlarging  pungent\n",
       "1            0      smooth    yellow   enlarging   almond\n",
       "2            0      smooth     white   enlarging    anise\n",
       "3            1       scaly     white   enlarging  pungent\n",
       "4            0      smooth      gray    tapering     none\n",
       "5            0       scaly    yellow   enlarging   almond\n",
       "6            0      smooth     white   enlarging   almond\n",
       "7            0       scaly     white   enlarging    anise\n",
       "8            1       scaly     white   enlarging  pungent\n",
       "9            0      smooth    yellow   enlarging   almond"
      ]
     },
     "execution_count": 6,
     "metadata": {},
     "output_type": "execute_result"
    }
   ],
   "source": [
    "# replace Is_Poisonous col values\n",
    "mr_sub.Is_Poisonous.replace('e', '0', inplace = True)\n",
    "mr_sub.Is_Poisonous.replace('p', '1', inplace = True)\n",
    "\n",
    "# replace Cap Surface col values\n",
    "mr_sub.Cap_Surface.replace('f', 'fibrous', inplace = True)\n",
    "mr_sub.Cap_Surface.replace('g', 'grooves', inplace = True)\n",
    "mr_sub.Cap_Surface.replace('y', 'scaly', inplace = True)\n",
    "mr_sub.Cap_Surface.replace('s', 'smooth', inplace = True)\n",
    "\n",
    "# replace Cap Color col values\n",
    "mr_sub.Cap_Color.replace('n', 'brown', inplace = True)\n",
    "mr_sub.Cap_Color.replace('b', 'buff', inplace = True)\n",
    "mr_sub.Cap_Color.replace('c', 'cinnamon', inplace = True)\n",
    "mr_sub.Cap_Color.replace('g', 'gray', inplace = True)\n",
    "mr_sub.Cap_Color.replace('r', 'green', inplace = True)\n",
    "mr_sub.Cap_Color.replace('p', 'pink', inplace = True)\n",
    "mr_sub.Cap_Color.replace('u', 'purple', inplace = True)\n",
    "mr_sub.Cap_Color.replace('e', 'red', inplace = True)\n",
    "mr_sub.Cap_Color.replace('w', 'white', inplace = True)\n",
    "mr_sub.Cap_Color.replace('y', 'yellow', inplace = True)\n",
    "\n",
    "\n",
    "# replace Stalk Shape col values\n",
    "mr_sub.Stalk_Shape.replace('e', 'enlarging', inplace = True)\n",
    "mr_sub.Stalk_Shape.replace('t', 'tapering', inplace = True)\n",
    "\n",
    "\n",
    "# replace Odor col values\n",
    "mr_sub.Odor.replace('a', 'almond', inplace = True)\n",
    "mr_sub.Odor.replace('l', 'anise', inplace = True)\n",
    "mr_sub.Odor.replace('c', 'creosote', inplace = True)\n",
    "mr_sub.Odor.replace('y', 'fishy', inplace = True)\n",
    "mr_sub.Odor.replace('f', 'foul', inplace = True)\n",
    "mr_sub.Odor.replace('m', 'musty', inplace = True)\n",
    "mr_sub.Odor.replace('n', 'none', inplace = True)\n",
    "mr_sub.Odor.replace('p', 'pungent', inplace = True)\n",
    "mr_sub.Odor.replace('s', 'spicy', inplace = True)\n",
    "\n",
    "mr_sub.head(10)\n"
   ]
  },
  {
   "cell_type": "code",
   "execution_count": 7,
   "metadata": {
    "scrolled": true
   },
   "outputs": [
    {
     "data": {
      "text/html": [
       "<div>\n",
       "<style scoped>\n",
       "    .dataframe tbody tr th:only-of-type {\n",
       "        vertical-align: middle;\n",
       "    }\n",
       "\n",
       "    .dataframe tbody tr th {\n",
       "        vertical-align: top;\n",
       "    }\n",
       "\n",
       "    .dataframe thead th {\n",
       "        text-align: right;\n",
       "    }\n",
       "</style>\n",
       "<table border=\"1\" class=\"dataframe\">\n",
       "  <thead>\n",
       "    <tr style=\"text-align: right;\">\n",
       "      <th></th>\n",
       "      <th>Is_Poisonous_0</th>\n",
       "      <th>Is_Poisonous_1</th>\n",
       "      <th>Cap_Surface_fibrous</th>\n",
       "      <th>Cap_Surface_grooves</th>\n",
       "      <th>Cap_Surface_scaly</th>\n",
       "      <th>Cap_Surface_smooth</th>\n",
       "      <th>Cap_Color_brown</th>\n",
       "      <th>Cap_Color_buff</th>\n",
       "      <th>Cap_Color_cinnamon</th>\n",
       "      <th>Cap_Color_gray</th>\n",
       "      <th>...</th>\n",
       "      <th>Stalk_Shape_tapering</th>\n",
       "      <th>Odor_almond</th>\n",
       "      <th>Odor_anise</th>\n",
       "      <th>Odor_creosote</th>\n",
       "      <th>Odor_fishy</th>\n",
       "      <th>Odor_foul</th>\n",
       "      <th>Odor_musty</th>\n",
       "      <th>Odor_none</th>\n",
       "      <th>Odor_pungent</th>\n",
       "      <th>Odor_spicy</th>\n",
       "    </tr>\n",
       "  </thead>\n",
       "  <tbody>\n",
       "    <tr>\n",
       "      <th>0</th>\n",
       "      <td>0</td>\n",
       "      <td>1</td>\n",
       "      <td>0</td>\n",
       "      <td>0</td>\n",
       "      <td>0</td>\n",
       "      <td>1</td>\n",
       "      <td>1</td>\n",
       "      <td>0</td>\n",
       "      <td>0</td>\n",
       "      <td>0</td>\n",
       "      <td>...</td>\n",
       "      <td>0</td>\n",
       "      <td>0</td>\n",
       "      <td>0</td>\n",
       "      <td>0</td>\n",
       "      <td>0</td>\n",
       "      <td>0</td>\n",
       "      <td>0</td>\n",
       "      <td>0</td>\n",
       "      <td>1</td>\n",
       "      <td>0</td>\n",
       "    </tr>\n",
       "    <tr>\n",
       "      <th>1</th>\n",
       "      <td>1</td>\n",
       "      <td>0</td>\n",
       "      <td>0</td>\n",
       "      <td>0</td>\n",
       "      <td>0</td>\n",
       "      <td>1</td>\n",
       "      <td>0</td>\n",
       "      <td>0</td>\n",
       "      <td>0</td>\n",
       "      <td>0</td>\n",
       "      <td>...</td>\n",
       "      <td>0</td>\n",
       "      <td>1</td>\n",
       "      <td>0</td>\n",
       "      <td>0</td>\n",
       "      <td>0</td>\n",
       "      <td>0</td>\n",
       "      <td>0</td>\n",
       "      <td>0</td>\n",
       "      <td>0</td>\n",
       "      <td>0</td>\n",
       "    </tr>\n",
       "    <tr>\n",
       "      <th>2</th>\n",
       "      <td>1</td>\n",
       "      <td>0</td>\n",
       "      <td>0</td>\n",
       "      <td>0</td>\n",
       "      <td>0</td>\n",
       "      <td>1</td>\n",
       "      <td>0</td>\n",
       "      <td>0</td>\n",
       "      <td>0</td>\n",
       "      <td>0</td>\n",
       "      <td>...</td>\n",
       "      <td>0</td>\n",
       "      <td>0</td>\n",
       "      <td>1</td>\n",
       "      <td>0</td>\n",
       "      <td>0</td>\n",
       "      <td>0</td>\n",
       "      <td>0</td>\n",
       "      <td>0</td>\n",
       "      <td>0</td>\n",
       "      <td>0</td>\n",
       "    </tr>\n",
       "    <tr>\n",
       "      <th>3</th>\n",
       "      <td>0</td>\n",
       "      <td>1</td>\n",
       "      <td>0</td>\n",
       "      <td>0</td>\n",
       "      <td>1</td>\n",
       "      <td>0</td>\n",
       "      <td>0</td>\n",
       "      <td>0</td>\n",
       "      <td>0</td>\n",
       "      <td>0</td>\n",
       "      <td>...</td>\n",
       "      <td>0</td>\n",
       "      <td>0</td>\n",
       "      <td>0</td>\n",
       "      <td>0</td>\n",
       "      <td>0</td>\n",
       "      <td>0</td>\n",
       "      <td>0</td>\n",
       "      <td>0</td>\n",
       "      <td>1</td>\n",
       "      <td>0</td>\n",
       "    </tr>\n",
       "    <tr>\n",
       "      <th>4</th>\n",
       "      <td>1</td>\n",
       "      <td>0</td>\n",
       "      <td>0</td>\n",
       "      <td>0</td>\n",
       "      <td>0</td>\n",
       "      <td>1</td>\n",
       "      <td>0</td>\n",
       "      <td>0</td>\n",
       "      <td>0</td>\n",
       "      <td>1</td>\n",
       "      <td>...</td>\n",
       "      <td>1</td>\n",
       "      <td>0</td>\n",
       "      <td>0</td>\n",
       "      <td>0</td>\n",
       "      <td>0</td>\n",
       "      <td>0</td>\n",
       "      <td>0</td>\n",
       "      <td>1</td>\n",
       "      <td>0</td>\n",
       "      <td>0</td>\n",
       "    </tr>\n",
       "  </tbody>\n",
       "</table>\n",
       "<p>5 rows × 27 columns</p>\n",
       "</div>"
      ],
      "text/plain": [
       "   Is_Poisonous_0  Is_Poisonous_1  Cap_Surface_fibrous  Cap_Surface_grooves  \\\n",
       "0               0               1                    0                    0   \n",
       "1               1               0                    0                    0   \n",
       "2               1               0                    0                    0   \n",
       "3               0               1                    0                    0   \n",
       "4               1               0                    0                    0   \n",
       "\n",
       "   Cap_Surface_scaly  Cap_Surface_smooth  Cap_Color_brown  Cap_Color_buff  \\\n",
       "0                  0                   1                1               0   \n",
       "1                  0                   1                0               0   \n",
       "2                  0                   1                0               0   \n",
       "3                  1                   0                0               0   \n",
       "4                  0                   1                0               0   \n",
       "\n",
       "   Cap_Color_cinnamon  Cap_Color_gray  ...  Stalk_Shape_tapering  Odor_almond  \\\n",
       "0                   0               0  ...                     0            0   \n",
       "1                   0               0  ...                     0            1   \n",
       "2                   0               0  ...                     0            0   \n",
       "3                   0               0  ...                     0            0   \n",
       "4                   0               1  ...                     1            0   \n",
       "\n",
       "   Odor_anise  Odor_creosote  Odor_fishy  Odor_foul  Odor_musty  Odor_none  \\\n",
       "0           0              0           0          0           0          0   \n",
       "1           0              0           0          0           0          0   \n",
       "2           1              0           0          0           0          0   \n",
       "3           0              0           0          0           0          0   \n",
       "4           0              0           0          0           0          1   \n",
       "\n",
       "   Odor_pungent  Odor_spicy  \n",
       "0             1           0  \n",
       "1             0           0  \n",
       "2             0           0  \n",
       "3             1           0  \n",
       "4             0           0  \n",
       "\n",
       "[5 rows x 27 columns]"
      ]
     },
     "execution_count": 7,
     "metadata": {},
     "output_type": "execute_result"
    }
   ],
   "source": [
    "mr_d = pd.get_dummies(mr_sub)\n",
    "mr_d.head(5)"
   ]
  },
  {
   "cell_type": "code",
   "execution_count": 8,
   "metadata": {},
   "outputs": [
    {
     "data": {
      "text/html": [
       "<div>\n",
       "<style scoped>\n",
       "    .dataframe tbody tr th:only-of-type {\n",
       "        vertical-align: middle;\n",
       "    }\n",
       "\n",
       "    .dataframe tbody tr th {\n",
       "        vertical-align: top;\n",
       "    }\n",
       "\n",
       "    .dataframe thead th {\n",
       "        text-align: right;\n",
       "    }\n",
       "</style>\n",
       "<table border=\"1\" class=\"dataframe\">\n",
       "  <thead>\n",
       "    <tr style=\"text-align: right;\">\n",
       "      <th></th>\n",
       "      <th>Is_Poisonous</th>\n",
       "      <th>Cap_Surface</th>\n",
       "      <th>Cap_Color</th>\n",
       "      <th>Stalk_Shape</th>\n",
       "      <th>Odor</th>\n",
       "    </tr>\n",
       "  </thead>\n",
       "  <tbody>\n",
       "    <tr>\n",
       "      <th>count</th>\n",
       "      <td>8124</td>\n",
       "      <td>8124</td>\n",
       "      <td>8124</td>\n",
       "      <td>8124</td>\n",
       "      <td>8124</td>\n",
       "    </tr>\n",
       "    <tr>\n",
       "      <th>unique</th>\n",
       "      <td>2</td>\n",
       "      <td>4</td>\n",
       "      <td>10</td>\n",
       "      <td>2</td>\n",
       "      <td>9</td>\n",
       "    </tr>\n",
       "    <tr>\n",
       "      <th>top</th>\n",
       "      <td>0</td>\n",
       "      <td>scaly</td>\n",
       "      <td>brown</td>\n",
       "      <td>tapering</td>\n",
       "      <td>none</td>\n",
       "    </tr>\n",
       "    <tr>\n",
       "      <th>freq</th>\n",
       "      <td>4208</td>\n",
       "      <td>3244</td>\n",
       "      <td>2284</td>\n",
       "      <td>4608</td>\n",
       "      <td>3528</td>\n",
       "    </tr>\n",
       "  </tbody>\n",
       "</table>\n",
       "</div>"
      ],
      "text/plain": [
       "       Is_Poisonous Cap_Surface Cap_Color Stalk_Shape  Odor\n",
       "count          8124        8124      8124        8124  8124\n",
       "unique            2           4        10           2     9\n",
       "top               0       scaly     brown    tapering  none\n",
       "freq           4208        3244      2284        4608  3528"
      ]
     },
     "execution_count": 8,
     "metadata": {},
     "output_type": "execute_result"
    }
   ],
   "source": [
    "mr_sub.describe()"
   ]
  },
  {
   "cell_type": "code",
   "execution_count": 9,
   "metadata": {
    "scrolled": true
   },
   "outputs": [
    {
     "data": {
      "text/html": [
       "<div>\n",
       "<style scoped>\n",
       "    .dataframe tbody tr th:only-of-type {\n",
       "        vertical-align: middle;\n",
       "    }\n",
       "\n",
       "    .dataframe tbody tr th {\n",
       "        vertical-align: top;\n",
       "    }\n",
       "\n",
       "    .dataframe thead th {\n",
       "        text-align: right;\n",
       "    }\n",
       "</style>\n",
       "<table border=\"1\" class=\"dataframe\">\n",
       "  <thead>\n",
       "    <tr style=\"text-align: right;\">\n",
       "      <th></th>\n",
       "      <th>Is_Poisonous_0</th>\n",
       "      <th>Is_Poisonous_1</th>\n",
       "      <th>Cap_Surface_fibrous</th>\n",
       "      <th>Cap_Surface_grooves</th>\n",
       "      <th>Cap_Surface_scaly</th>\n",
       "      <th>Cap_Surface_smooth</th>\n",
       "      <th>Cap_Color_brown</th>\n",
       "      <th>Cap_Color_buff</th>\n",
       "      <th>Cap_Color_cinnamon</th>\n",
       "      <th>Cap_Color_gray</th>\n",
       "      <th>...</th>\n",
       "      <th>Stalk_Shape_tapering</th>\n",
       "      <th>Odor_almond</th>\n",
       "      <th>Odor_anise</th>\n",
       "      <th>Odor_creosote</th>\n",
       "      <th>Odor_fishy</th>\n",
       "      <th>Odor_foul</th>\n",
       "      <th>Odor_musty</th>\n",
       "      <th>Odor_none</th>\n",
       "      <th>Odor_pungent</th>\n",
       "      <th>Odor_spicy</th>\n",
       "    </tr>\n",
       "  </thead>\n",
       "  <tbody>\n",
       "    <tr>\n",
       "      <th>count</th>\n",
       "      <td>8124.000000</td>\n",
       "      <td>8124.000000</td>\n",
       "      <td>8124.000000</td>\n",
       "      <td>8124.000000</td>\n",
       "      <td>8124.000000</td>\n",
       "      <td>8124.000000</td>\n",
       "      <td>8124.000000</td>\n",
       "      <td>8124.000000</td>\n",
       "      <td>8124.000000</td>\n",
       "      <td>8124.000000</td>\n",
       "      <td>...</td>\n",
       "      <td>8124.000000</td>\n",
       "      <td>8124.000000</td>\n",
       "      <td>8124.000000</td>\n",
       "      <td>8124.000000</td>\n",
       "      <td>8124.000000</td>\n",
       "      <td>8124.000000</td>\n",
       "      <td>8124.000000</td>\n",
       "      <td>8124.000000</td>\n",
       "      <td>8124.000000</td>\n",
       "      <td>8124.000000</td>\n",
       "    </tr>\n",
       "    <tr>\n",
       "      <th>mean</th>\n",
       "      <td>0.517971</td>\n",
       "      <td>0.482029</td>\n",
       "      <td>0.285574</td>\n",
       "      <td>0.000492</td>\n",
       "      <td>0.399311</td>\n",
       "      <td>0.314623</td>\n",
       "      <td>0.281142</td>\n",
       "      <td>0.020679</td>\n",
       "      <td>0.005416</td>\n",
       "      <td>0.226489</td>\n",
       "      <td>...</td>\n",
       "      <td>0.567208</td>\n",
       "      <td>0.049237</td>\n",
       "      <td>0.049237</td>\n",
       "      <td>0.023634</td>\n",
       "      <td>0.070901</td>\n",
       "      <td>0.265879</td>\n",
       "      <td>0.004431</td>\n",
       "      <td>0.434269</td>\n",
       "      <td>0.031512</td>\n",
       "      <td>0.070901</td>\n",
       "    </tr>\n",
       "    <tr>\n",
       "      <th>std</th>\n",
       "      <td>0.499708</td>\n",
       "      <td>0.499708</td>\n",
       "      <td>0.451715</td>\n",
       "      <td>0.022185</td>\n",
       "      <td>0.489787</td>\n",
       "      <td>0.464394</td>\n",
       "      <td>0.449584</td>\n",
       "      <td>0.142318</td>\n",
       "      <td>0.073399</td>\n",
       "      <td>0.418585</td>\n",
       "      <td>...</td>\n",
       "      <td>0.495493</td>\n",
       "      <td>0.216375</td>\n",
       "      <td>0.216375</td>\n",
       "      <td>0.151914</td>\n",
       "      <td>0.256675</td>\n",
       "      <td>0.441827</td>\n",
       "      <td>0.066425</td>\n",
       "      <td>0.495691</td>\n",
       "      <td>0.174706</td>\n",
       "      <td>0.256675</td>\n",
       "    </tr>\n",
       "    <tr>\n",
       "      <th>min</th>\n",
       "      <td>0.000000</td>\n",
       "      <td>0.000000</td>\n",
       "      <td>0.000000</td>\n",
       "      <td>0.000000</td>\n",
       "      <td>0.000000</td>\n",
       "      <td>0.000000</td>\n",
       "      <td>0.000000</td>\n",
       "      <td>0.000000</td>\n",
       "      <td>0.000000</td>\n",
       "      <td>0.000000</td>\n",
       "      <td>...</td>\n",
       "      <td>0.000000</td>\n",
       "      <td>0.000000</td>\n",
       "      <td>0.000000</td>\n",
       "      <td>0.000000</td>\n",
       "      <td>0.000000</td>\n",
       "      <td>0.000000</td>\n",
       "      <td>0.000000</td>\n",
       "      <td>0.000000</td>\n",
       "      <td>0.000000</td>\n",
       "      <td>0.000000</td>\n",
       "    </tr>\n",
       "    <tr>\n",
       "      <th>25%</th>\n",
       "      <td>0.000000</td>\n",
       "      <td>0.000000</td>\n",
       "      <td>0.000000</td>\n",
       "      <td>0.000000</td>\n",
       "      <td>0.000000</td>\n",
       "      <td>0.000000</td>\n",
       "      <td>0.000000</td>\n",
       "      <td>0.000000</td>\n",
       "      <td>0.000000</td>\n",
       "      <td>0.000000</td>\n",
       "      <td>...</td>\n",
       "      <td>0.000000</td>\n",
       "      <td>0.000000</td>\n",
       "      <td>0.000000</td>\n",
       "      <td>0.000000</td>\n",
       "      <td>0.000000</td>\n",
       "      <td>0.000000</td>\n",
       "      <td>0.000000</td>\n",
       "      <td>0.000000</td>\n",
       "      <td>0.000000</td>\n",
       "      <td>0.000000</td>\n",
       "    </tr>\n",
       "    <tr>\n",
       "      <th>50%</th>\n",
       "      <td>1.000000</td>\n",
       "      <td>0.000000</td>\n",
       "      <td>0.000000</td>\n",
       "      <td>0.000000</td>\n",
       "      <td>0.000000</td>\n",
       "      <td>0.000000</td>\n",
       "      <td>0.000000</td>\n",
       "      <td>0.000000</td>\n",
       "      <td>0.000000</td>\n",
       "      <td>0.000000</td>\n",
       "      <td>...</td>\n",
       "      <td>1.000000</td>\n",
       "      <td>0.000000</td>\n",
       "      <td>0.000000</td>\n",
       "      <td>0.000000</td>\n",
       "      <td>0.000000</td>\n",
       "      <td>0.000000</td>\n",
       "      <td>0.000000</td>\n",
       "      <td>0.000000</td>\n",
       "      <td>0.000000</td>\n",
       "      <td>0.000000</td>\n",
       "    </tr>\n",
       "    <tr>\n",
       "      <th>75%</th>\n",
       "      <td>1.000000</td>\n",
       "      <td>1.000000</td>\n",
       "      <td>1.000000</td>\n",
       "      <td>0.000000</td>\n",
       "      <td>1.000000</td>\n",
       "      <td>1.000000</td>\n",
       "      <td>1.000000</td>\n",
       "      <td>0.000000</td>\n",
       "      <td>0.000000</td>\n",
       "      <td>0.000000</td>\n",
       "      <td>...</td>\n",
       "      <td>1.000000</td>\n",
       "      <td>0.000000</td>\n",
       "      <td>0.000000</td>\n",
       "      <td>0.000000</td>\n",
       "      <td>0.000000</td>\n",
       "      <td>1.000000</td>\n",
       "      <td>0.000000</td>\n",
       "      <td>1.000000</td>\n",
       "      <td>0.000000</td>\n",
       "      <td>0.000000</td>\n",
       "    </tr>\n",
       "    <tr>\n",
       "      <th>max</th>\n",
       "      <td>1.000000</td>\n",
       "      <td>1.000000</td>\n",
       "      <td>1.000000</td>\n",
       "      <td>1.000000</td>\n",
       "      <td>1.000000</td>\n",
       "      <td>1.000000</td>\n",
       "      <td>1.000000</td>\n",
       "      <td>1.000000</td>\n",
       "      <td>1.000000</td>\n",
       "      <td>1.000000</td>\n",
       "      <td>...</td>\n",
       "      <td>1.000000</td>\n",
       "      <td>1.000000</td>\n",
       "      <td>1.000000</td>\n",
       "      <td>1.000000</td>\n",
       "      <td>1.000000</td>\n",
       "      <td>1.000000</td>\n",
       "      <td>1.000000</td>\n",
       "      <td>1.000000</td>\n",
       "      <td>1.000000</td>\n",
       "      <td>1.000000</td>\n",
       "    </tr>\n",
       "  </tbody>\n",
       "</table>\n",
       "<p>8 rows × 27 columns</p>\n",
       "</div>"
      ],
      "text/plain": [
       "       Is_Poisonous_0  Is_Poisonous_1  Cap_Surface_fibrous  \\\n",
       "count     8124.000000     8124.000000          8124.000000   \n",
       "mean         0.517971        0.482029             0.285574   \n",
       "std          0.499708        0.499708             0.451715   \n",
       "min          0.000000        0.000000             0.000000   \n",
       "25%          0.000000        0.000000             0.000000   \n",
       "50%          1.000000        0.000000             0.000000   \n",
       "75%          1.000000        1.000000             1.000000   \n",
       "max          1.000000        1.000000             1.000000   \n",
       "\n",
       "       Cap_Surface_grooves  Cap_Surface_scaly  Cap_Surface_smooth  \\\n",
       "count          8124.000000        8124.000000         8124.000000   \n",
       "mean              0.000492           0.399311            0.314623   \n",
       "std               0.022185           0.489787            0.464394   \n",
       "min               0.000000           0.000000            0.000000   \n",
       "25%               0.000000           0.000000            0.000000   \n",
       "50%               0.000000           0.000000            0.000000   \n",
       "75%               0.000000           1.000000            1.000000   \n",
       "max               1.000000           1.000000            1.000000   \n",
       "\n",
       "       Cap_Color_brown  Cap_Color_buff  Cap_Color_cinnamon  Cap_Color_gray  \\\n",
       "count      8124.000000     8124.000000         8124.000000     8124.000000   \n",
       "mean          0.281142        0.020679            0.005416        0.226489   \n",
       "std           0.449584        0.142318            0.073399        0.418585   \n",
       "min           0.000000        0.000000            0.000000        0.000000   \n",
       "25%           0.000000        0.000000            0.000000        0.000000   \n",
       "50%           0.000000        0.000000            0.000000        0.000000   \n",
       "75%           1.000000        0.000000            0.000000        0.000000   \n",
       "max           1.000000        1.000000            1.000000        1.000000   \n",
       "\n",
       "       ...  Stalk_Shape_tapering  Odor_almond   Odor_anise  Odor_creosote  \\\n",
       "count  ...           8124.000000  8124.000000  8124.000000    8124.000000   \n",
       "mean   ...              0.567208     0.049237     0.049237       0.023634   \n",
       "std    ...              0.495493     0.216375     0.216375       0.151914   \n",
       "min    ...              0.000000     0.000000     0.000000       0.000000   \n",
       "25%    ...              0.000000     0.000000     0.000000       0.000000   \n",
       "50%    ...              1.000000     0.000000     0.000000       0.000000   \n",
       "75%    ...              1.000000     0.000000     0.000000       0.000000   \n",
       "max    ...              1.000000     1.000000     1.000000       1.000000   \n",
       "\n",
       "        Odor_fishy    Odor_foul   Odor_musty    Odor_none  Odor_pungent  \\\n",
       "count  8124.000000  8124.000000  8124.000000  8124.000000   8124.000000   \n",
       "mean      0.070901     0.265879     0.004431     0.434269      0.031512   \n",
       "std       0.256675     0.441827     0.066425     0.495691      0.174706   \n",
       "min       0.000000     0.000000     0.000000     0.000000      0.000000   \n",
       "25%       0.000000     0.000000     0.000000     0.000000      0.000000   \n",
       "50%       0.000000     0.000000     0.000000     0.000000      0.000000   \n",
       "75%       0.000000     1.000000     0.000000     1.000000      0.000000   \n",
       "max       1.000000     1.000000     1.000000     1.000000      1.000000   \n",
       "\n",
       "        Odor_spicy  \n",
       "count  8124.000000  \n",
       "mean      0.070901  \n",
       "std       0.256675  \n",
       "min       0.000000  \n",
       "25%       0.000000  \n",
       "50%       0.000000  \n",
       "75%       0.000000  \n",
       "max       1.000000  \n",
       "\n",
       "[8 rows x 27 columns]"
      ]
     },
     "execution_count": 9,
     "metadata": {},
     "output_type": "execute_result"
    }
   ],
   "source": [
    "mr_d.describe()"
   ]
  },
  {
   "cell_type": "markdown",
   "metadata": {},
   "source": [
    "## Data Pre_Processing\n",
    "\n",
    "First, load the dataset we made proviously. "
   ]
  },
  {
   "cell_type": "code",
   "execution_count": 10,
   "metadata": {
    "scrolled": true
   },
   "outputs": [
    {
     "data": {
      "text/html": [
       "<div>\n",
       "<style scoped>\n",
       "    .dataframe tbody tr th:only-of-type {\n",
       "        vertical-align: middle;\n",
       "    }\n",
       "\n",
       "    .dataframe tbody tr th {\n",
       "        vertical-align: top;\n",
       "    }\n",
       "\n",
       "    .dataframe thead th {\n",
       "        text-align: right;\n",
       "    }\n",
       "</style>\n",
       "<table border=\"1\" class=\"dataframe\">\n",
       "  <thead>\n",
       "    <tr style=\"text-align: right;\">\n",
       "      <th></th>\n",
       "      <th>Is_Poisonous_0</th>\n",
       "      <th>Is_Poisonous_1</th>\n",
       "      <th>Cap_Surface_fibrous</th>\n",
       "      <th>Cap_Surface_grooves</th>\n",
       "      <th>Cap_Surface_scaly</th>\n",
       "      <th>Cap_Surface_smooth</th>\n",
       "      <th>Cap_Color_brown</th>\n",
       "      <th>Cap_Color_buff</th>\n",
       "      <th>Cap_Color_cinnamon</th>\n",
       "      <th>Cap_Color_gray</th>\n",
       "      <th>...</th>\n",
       "      <th>Stalk_Shape_tapering</th>\n",
       "      <th>Odor_almond</th>\n",
       "      <th>Odor_anise</th>\n",
       "      <th>Odor_creosote</th>\n",
       "      <th>Odor_fishy</th>\n",
       "      <th>Odor_foul</th>\n",
       "      <th>Odor_musty</th>\n",
       "      <th>Odor_none</th>\n",
       "      <th>Odor_pungent</th>\n",
       "      <th>Odor_spicy</th>\n",
       "    </tr>\n",
       "  </thead>\n",
       "  <tbody>\n",
       "    <tr>\n",
       "      <th>0</th>\n",
       "      <td>0</td>\n",
       "      <td>1</td>\n",
       "      <td>0</td>\n",
       "      <td>0</td>\n",
       "      <td>0</td>\n",
       "      <td>1</td>\n",
       "      <td>1</td>\n",
       "      <td>0</td>\n",
       "      <td>0</td>\n",
       "      <td>0</td>\n",
       "      <td>...</td>\n",
       "      <td>0</td>\n",
       "      <td>0</td>\n",
       "      <td>0</td>\n",
       "      <td>0</td>\n",
       "      <td>0</td>\n",
       "      <td>0</td>\n",
       "      <td>0</td>\n",
       "      <td>0</td>\n",
       "      <td>1</td>\n",
       "      <td>0</td>\n",
       "    </tr>\n",
       "    <tr>\n",
       "      <th>1</th>\n",
       "      <td>1</td>\n",
       "      <td>0</td>\n",
       "      <td>0</td>\n",
       "      <td>0</td>\n",
       "      <td>0</td>\n",
       "      <td>1</td>\n",
       "      <td>0</td>\n",
       "      <td>0</td>\n",
       "      <td>0</td>\n",
       "      <td>0</td>\n",
       "      <td>...</td>\n",
       "      <td>0</td>\n",
       "      <td>1</td>\n",
       "      <td>0</td>\n",
       "      <td>0</td>\n",
       "      <td>0</td>\n",
       "      <td>0</td>\n",
       "      <td>0</td>\n",
       "      <td>0</td>\n",
       "      <td>0</td>\n",
       "      <td>0</td>\n",
       "    </tr>\n",
       "    <tr>\n",
       "      <th>2</th>\n",
       "      <td>1</td>\n",
       "      <td>0</td>\n",
       "      <td>0</td>\n",
       "      <td>0</td>\n",
       "      <td>0</td>\n",
       "      <td>1</td>\n",
       "      <td>0</td>\n",
       "      <td>0</td>\n",
       "      <td>0</td>\n",
       "      <td>0</td>\n",
       "      <td>...</td>\n",
       "      <td>0</td>\n",
       "      <td>0</td>\n",
       "      <td>1</td>\n",
       "      <td>0</td>\n",
       "      <td>0</td>\n",
       "      <td>0</td>\n",
       "      <td>0</td>\n",
       "      <td>0</td>\n",
       "      <td>0</td>\n",
       "      <td>0</td>\n",
       "    </tr>\n",
       "    <tr>\n",
       "      <th>3</th>\n",
       "      <td>0</td>\n",
       "      <td>1</td>\n",
       "      <td>0</td>\n",
       "      <td>0</td>\n",
       "      <td>1</td>\n",
       "      <td>0</td>\n",
       "      <td>0</td>\n",
       "      <td>0</td>\n",
       "      <td>0</td>\n",
       "      <td>0</td>\n",
       "      <td>...</td>\n",
       "      <td>0</td>\n",
       "      <td>0</td>\n",
       "      <td>0</td>\n",
       "      <td>0</td>\n",
       "      <td>0</td>\n",
       "      <td>0</td>\n",
       "      <td>0</td>\n",
       "      <td>0</td>\n",
       "      <td>1</td>\n",
       "      <td>0</td>\n",
       "    </tr>\n",
       "    <tr>\n",
       "      <th>4</th>\n",
       "      <td>1</td>\n",
       "      <td>0</td>\n",
       "      <td>0</td>\n",
       "      <td>0</td>\n",
       "      <td>0</td>\n",
       "      <td>1</td>\n",
       "      <td>0</td>\n",
       "      <td>0</td>\n",
       "      <td>0</td>\n",
       "      <td>1</td>\n",
       "      <td>...</td>\n",
       "      <td>1</td>\n",
       "      <td>0</td>\n",
       "      <td>0</td>\n",
       "      <td>0</td>\n",
       "      <td>0</td>\n",
       "      <td>0</td>\n",
       "      <td>0</td>\n",
       "      <td>1</td>\n",
       "      <td>0</td>\n",
       "      <td>0</td>\n",
       "    </tr>\n",
       "  </tbody>\n",
       "</table>\n",
       "<p>5 rows × 27 columns</p>\n",
       "</div>"
      ],
      "text/plain": [
       "   Is_Poisonous_0  Is_Poisonous_1  Cap_Surface_fibrous  Cap_Surface_grooves  \\\n",
       "0               0               1                    0                    0   \n",
       "1               1               0                    0                    0   \n",
       "2               1               0                    0                    0   \n",
       "3               0               1                    0                    0   \n",
       "4               1               0                    0                    0   \n",
       "\n",
       "   Cap_Surface_scaly  Cap_Surface_smooth  Cap_Color_brown  Cap_Color_buff  \\\n",
       "0                  0                   1                1               0   \n",
       "1                  0                   1                0               0   \n",
       "2                  0                   1                0               0   \n",
       "3                  1                   0                0               0   \n",
       "4                  0                   1                0               0   \n",
       "\n",
       "   Cap_Color_cinnamon  Cap_Color_gray  ...  Stalk_Shape_tapering  Odor_almond  \\\n",
       "0                   0               0  ...                     0            0   \n",
       "1                   0               0  ...                     0            1   \n",
       "2                   0               0  ...                     0            0   \n",
       "3                   0               0  ...                     0            0   \n",
       "4                   0               1  ...                     1            0   \n",
       "\n",
       "   Odor_anise  Odor_creosote  Odor_fishy  Odor_foul  Odor_musty  Odor_none  \\\n",
       "0           0              0           0          0           0          0   \n",
       "1           0              0           0          0           0          0   \n",
       "2           1              0           0          0           0          0   \n",
       "3           0              0           0          0           0          0   \n",
       "4           0              0           0          0           0          1   \n",
       "\n",
       "   Odor_pungent  Odor_spicy  \n",
       "0             1           0  \n",
       "1             0           0  \n",
       "2             0           0  \n",
       "3             1           0  \n",
       "4             0           0  \n",
       "\n",
       "[5 rows x 27 columns]"
      ]
     },
     "execution_count": 10,
     "metadata": {},
     "output_type": "execute_result"
    }
   ],
   "source": [
    "# load dataset\n",
    "mr_d.head(5)"
   ]
  },
  {
   "cell_type": "markdown",
   "metadata": {},
   "source": [
    "## Data Exploration and Visualization\n",
    "\n",
    "### We labeled the \"poisonous\" as \"1\", and the the \"edible\" as \"0\""
   ]
  },
  {
   "cell_type": "markdown",
   "metadata": {},
   "source": [
    "We find that there are 1,740 mushrooms with a scaly surface, 1,412 mushrooms with a smooth surface, and 760 mushrooms with fibrous mushroom are poisonous. Only 4 mushrooms with grooves surface are poisonous."
   ]
  },
  {
   "cell_type": "code",
   "execution_count": 11,
   "metadata": {},
   "outputs": [
    {
     "data": {
      "text/html": [
       "<div>\n",
       "<style scoped>\n",
       "    .dataframe tbody tr th:only-of-type {\n",
       "        vertical-align: middle;\n",
       "    }\n",
       "\n",
       "    .dataframe tbody tr th {\n",
       "        vertical-align: top;\n",
       "    }\n",
       "\n",
       "    .dataframe thead th {\n",
       "        text-align: right;\n",
       "    }\n",
       "</style>\n",
       "<table border=\"1\" class=\"dataframe\">\n",
       "  <thead>\n",
       "    <tr style=\"text-align: right;\">\n",
       "      <th></th>\n",
       "      <th>Is_Poisonous</th>\n",
       "    </tr>\n",
       "    <tr>\n",
       "      <th>Cap_Surface</th>\n",
       "      <th></th>\n",
       "    </tr>\n",
       "  </thead>\n",
       "  <tbody>\n",
       "    <tr>\n",
       "      <th>scaly</th>\n",
       "      <td>1740</td>\n",
       "    </tr>\n",
       "    <tr>\n",
       "      <th>smooth</th>\n",
       "      <td>1412</td>\n",
       "    </tr>\n",
       "    <tr>\n",
       "      <th>fibrous</th>\n",
       "      <td>760</td>\n",
       "    </tr>\n",
       "    <tr>\n",
       "      <th>grooves</th>\n",
       "      <td>4</td>\n",
       "    </tr>\n",
       "  </tbody>\n",
       "</table>\n",
       "</div>"
      ],
      "text/plain": [
       "             Is_Poisonous\n",
       "Cap_Surface              \n",
       "scaly                1740\n",
       "smooth               1412\n",
       "fibrous               760\n",
       "grooves                 4"
      ]
     },
     "execution_count": 11,
     "metadata": {},
     "output_type": "execute_result"
    }
   ],
   "source": [
    "# Use groupby function to make a new dataframe.\n",
    "mr_sub[mr_sub['Is_Poisonous'] == '1'].groupby('Cap_Surface').count()[['Is_Poisonous']].sort_values(by='Is_Poisonous', ascending=False, na_position='first')"
   ]
  },
  {
   "cell_type": "markdown",
   "metadata": {},
   "source": [
    "According to the figure, we could find out that the mushrooms with scaly and smooth surface are likely to be poisonous."
   ]
  },
  {
   "cell_type": "code",
   "execution_count": 12,
   "metadata": {},
   "outputs": [
    {
     "data": {
      "text/plain": [
       "<matplotlib.legend.Legend at 0x1da6f50cda0>"
      ]
     },
     "execution_count": 12,
     "metadata": {},
     "output_type": "execute_result"
    },
    {
     "data": {
      "image/png": "[encoded data removed]",
      "text/plain": [
       "<Figure size 432x288 with 1 Axes>"
      ]
     },
     "metadata": {
      "needs_background": "light"
     },
     "output_type": "display_data"
    }
   ],
   "source": [
    "# Barplot of Cap_Surface grouped by Edible\n",
    "pd.crosstab(mr_sub.Cap_Surface, mr_sub.Is_Poisonous).plot(kind='bar')\n",
    "plt.title('Cap_Surface Distribution by Poisonous Status')\n",
    "plt.xlabel('Cap_Surface')\n",
    "plt.ylabel('Frequency')\n",
    "plt.legend([\"Edible\", \"Poisonous\"])"
   ]
  },
  {
   "cell_type": "markdown",
   "metadata": {},
   "source": [
    "According to the table below there are 1,020 brown, 876 red, 808 gray, 672 yellow,320 white, 120 buff, 88 pink, and 12 cinnamon mushrooms are poisonous. "
   ]
  },
  {
   "cell_type": "code",
   "execution_count": 13,
   "metadata": {},
   "outputs": [
    {
     "data": {
      "text/html": [
       "<div>\n",
       "<style scoped>\n",
       "    .dataframe tbody tr th:only-of-type {\n",
       "        vertical-align: middle;\n",
       "    }\n",
       "\n",
       "    .dataframe tbody tr th {\n",
       "        vertical-align: top;\n",
       "    }\n",
       "\n",
       "    .dataframe thead th {\n",
       "        text-align: right;\n",
       "    }\n",
       "</style>\n",
       "<table border=\"1\" class=\"dataframe\">\n",
       "  <thead>\n",
       "    <tr style=\"text-align: right;\">\n",
       "      <th></th>\n",
       "      <th>Is_Poisonous</th>\n",
       "    </tr>\n",
       "    <tr>\n",
       "      <th>Cap_Color</th>\n",
       "      <th></th>\n",
       "    </tr>\n",
       "  </thead>\n",
       "  <tbody>\n",
       "    <tr>\n",
       "      <th>brown</th>\n",
       "      <td>1020</td>\n",
       "    </tr>\n",
       "    <tr>\n",
       "      <th>red</th>\n",
       "      <td>876</td>\n",
       "    </tr>\n",
       "    <tr>\n",
       "      <th>gray</th>\n",
       "      <td>808</td>\n",
       "    </tr>\n",
       "    <tr>\n",
       "      <th>yellow</th>\n",
       "      <td>672</td>\n",
       "    </tr>\n",
       "    <tr>\n",
       "      <th>white</th>\n",
       "      <td>320</td>\n",
       "    </tr>\n",
       "    <tr>\n",
       "      <th>buff</th>\n",
       "      <td>120</td>\n",
       "    </tr>\n",
       "    <tr>\n",
       "      <th>pink</th>\n",
       "      <td>88</td>\n",
       "    </tr>\n",
       "    <tr>\n",
       "      <th>cinnamon</th>\n",
       "      <td>12</td>\n",
       "    </tr>\n",
       "  </tbody>\n",
       "</table>\n",
       "</div>"
      ],
      "text/plain": [
       "           Is_Poisonous\n",
       "Cap_Color              \n",
       "brown              1020\n",
       "red                 876\n",
       "gray                808\n",
       "yellow              672\n",
       "white               320\n",
       "buff                120\n",
       "pink                 88\n",
       "cinnamon             12"
      ]
     },
     "execution_count": 13,
     "metadata": {},
     "output_type": "execute_result"
    }
   ],
   "source": [
    "# Use groupby function to make a new dataframe.\n",
    "mr_sub[mr_sub['Is_Poisonous'] == '1'].groupby('Cap_Color').count()[['Is_Poisonous']].sort_values(by='Is_Poisonous', ascending=False, na_position='first')"
   ]
  },
  {
   "cell_type": "markdown",
   "metadata": {},
   "source": [
    "According to the figure, we could find out that the mushrooms with red, buff, pink and yellow color are likely poisonous."
   ]
  },
  {
   "cell_type": "code",
   "execution_count": 14,
   "metadata": {
    "scrolled": true
   },
   "outputs": [
    {
     "data": {
      "text/plain": [
       "<matplotlib.legend.Legend at 0x1da6faadba8>"
      ]
     },
     "execution_count": 14,
     "metadata": {},
     "output_type": "execute_result"
    },
    {
     "data": {
      "image/png": "[encoded data removed]",
      "text/plain": [
       "<Figure size 432x288 with 1 Axes>"
      ]
     },
     "metadata": {
      "needs_background": "light"
     },
     "output_type": "display_data"
    }
   ],
   "source": [
    "# Barplot of Cap_Color grouped by Edible\n",
    "pd.crosstab(mr_sub.Cap_Color, mr_sub.Is_Poisonous).plot(kind='bar')\n",
    "plt.title('Cap_Color Distribution by Poisonous Status')\n",
    "plt.xlabel('Cap_Color')\n",
    "plt.ylabel('Frequency')\n",
    "plt.legend([\"Edible\", \"Poisonous\"])"
   ]
  },
  {
   "cell_type": "markdown",
   "metadata": {},
   "source": [
    "Based on the table below, we find that there are 2,016 mushrooms with tapering stalk shape, and 1,900 mushrooms with enlaging stalk shape are poisonous."
   ]
  },
  {
   "cell_type": "code",
   "execution_count": 15,
   "metadata": {},
   "outputs": [
    {
     "data": {
      "text/html": [
       "<div>\n",
       "<style scoped>\n",
       "    .dataframe tbody tr th:only-of-type {\n",
       "        vertical-align: middle;\n",
       "    }\n",
       "\n",
       "    .dataframe tbody tr th {\n",
       "        vertical-align: top;\n",
       "    }\n",
       "\n",
       "    .dataframe thead th {\n",
       "        text-align: right;\n",
       "    }\n",
       "</style>\n",
       "<table border=\"1\" class=\"dataframe\">\n",
       "  <thead>\n",
       "    <tr style=\"text-align: right;\">\n",
       "      <th></th>\n",
       "      <th>Is_Poisonous</th>\n",
       "    </tr>\n",
       "    <tr>\n",
       "      <th>Stalk_Shape</th>\n",
       "      <th></th>\n",
       "    </tr>\n",
       "  </thead>\n",
       "  <tbody>\n",
       "    <tr>\n",
       "      <th>tapering</th>\n",
       "      <td>2016</td>\n",
       "    </tr>\n",
       "    <tr>\n",
       "      <th>enlarging</th>\n",
       "      <td>1900</td>\n",
       "    </tr>\n",
       "  </tbody>\n",
       "</table>\n",
       "</div>"
      ],
      "text/plain": [
       "             Is_Poisonous\n",
       "Stalk_Shape              \n",
       "tapering             2016\n",
       "enlarging            1900"
      ]
     },
     "execution_count": 15,
     "metadata": {},
     "output_type": "execute_result"
    }
   ],
   "source": [
    "# Use groupby function to make a new dataframe.\n",
    "mr_sub[mr_sub['Is_Poisonous'] == '1'].groupby('Stalk_Shape').count()[['Is_Poisonous']].sort_values(by='Is_Poisonous', ascending=False, na_position='first')"
   ]
  },
  {
   "cell_type": "markdown",
   "metadata": {},
   "source": [
    "According to the figure, we could find out that the mushrooms with enlarging stalk shape are likely poisonous."
   ]
  },
  {
   "cell_type": "code",
   "execution_count": 16,
   "metadata": {},
   "outputs": [
    {
     "data": {
      "text/plain": [
       "<matplotlib.legend.Legend at 0x1da6fadd4a8>"
      ]
     },
     "execution_count": 16,
     "metadata": {},
     "output_type": "execute_result"
    },
    {
     "data": {
      "image/png": "[encoded data removed]",
      "text/plain": [
       "<Figure size 432x288 with 1 Axes>"
      ]
     },
     "metadata": {
      "needs_background": "light"
     },
     "output_type": "display_data"
    }
   ],
   "source": [
    "# Barplot of Stalk_Shape grouped by Is_Poisonous\n",
    "pd.crosstab(mr_sub.Stalk_Shape, mr_sub.Is_Poisonous).plot(kind='bar')\n",
    "plt.title('Stalk_Shape Distribution by Edible Status')\n",
    "plt.xlabel('Stalk_Shape')\n",
    "plt.ylabel('Frequency')\n",
    "plt.legend([\"Edible\", \"Poisonous\"])"
   ]
  },
  {
   "cell_type": "markdown",
   "metadata": {},
   "source": [
    "The table below shows that the mushrooms with the foul odor are more likely to be poisonous. The mushrooms with fishy and spicy smell seem to have equal possibility to be poisonous.\n",
    "There are 256, 192, 120, and 36 mushrooms with pungent, creosote, none, and musty smells are poisonous."
   ]
  },
  {
   "cell_type": "code",
   "execution_count": 17,
   "metadata": {},
   "outputs": [
    {
     "data": {
      "text/html": [
       "<div>\n",
       "<style scoped>\n",
       "    .dataframe tbody tr th:only-of-type {\n",
       "        vertical-align: middle;\n",
       "    }\n",
       "\n",
       "    .dataframe tbody tr th {\n",
       "        vertical-align: top;\n",
       "    }\n",
       "\n",
       "    .dataframe thead th {\n",
       "        text-align: right;\n",
       "    }\n",
       "</style>\n",
       "<table border=\"1\" class=\"dataframe\">\n",
       "  <thead>\n",
       "    <tr style=\"text-align: right;\">\n",
       "      <th></th>\n",
       "      <th>Is_Poisonous</th>\n",
       "    </tr>\n",
       "    <tr>\n",
       "      <th>Odor</th>\n",
       "      <th></th>\n",
       "    </tr>\n",
       "  </thead>\n",
       "  <tbody>\n",
       "    <tr>\n",
       "      <th>foul</th>\n",
       "      <td>2160</td>\n",
       "    </tr>\n",
       "    <tr>\n",
       "      <th>fishy</th>\n",
       "      <td>576</td>\n",
       "    </tr>\n",
       "    <tr>\n",
       "      <th>spicy</th>\n",
       "      <td>576</td>\n",
       "    </tr>\n",
       "    <tr>\n",
       "      <th>pungent</th>\n",
       "      <td>256</td>\n",
       "    </tr>\n",
       "    <tr>\n",
       "      <th>creosote</th>\n",
       "      <td>192</td>\n",
       "    </tr>\n",
       "    <tr>\n",
       "      <th>none</th>\n",
       "      <td>120</td>\n",
       "    </tr>\n",
       "    <tr>\n",
       "      <th>musty</th>\n",
       "      <td>36</td>\n",
       "    </tr>\n",
       "  </tbody>\n",
       "</table>\n",
       "</div>"
      ],
      "text/plain": [
       "          Is_Poisonous\n",
       "Odor                  \n",
       "foul              2160\n",
       "fishy              576\n",
       "spicy              576\n",
       "pungent            256\n",
       "creosote           192\n",
       "none               120\n",
       "musty               36"
      ]
     },
     "execution_count": 17,
     "metadata": {},
     "output_type": "execute_result"
    }
   ],
   "source": [
    "# Use groupby function to make a new dataframe.\n",
    "mr_sub[mr_sub['Is_Poisonous'] == '1'].groupby('Odor').count()[['Is_Poisonous']].sort_values(by='Is_Poisonous', ascending=False, na_position='first')"
   ]
  },
  {
   "cell_type": "markdown",
   "metadata": {},
   "source": [
    "Based on the bar chart below, we find that the mushrooms with almond, anise, or no smell are more likely ediable."
   ]
  },
  {
   "cell_type": "code",
   "execution_count": 18,
   "metadata": {},
   "outputs": [
    {
     "data": {
      "text/plain": [
       "<matplotlib.legend.Legend at 0x1da6ff76860>"
      ]
     },
     "execution_count": 18,
     "metadata": {},
     "output_type": "execute_result"
    },
    {
     "data": {
      "image/png": "[encoded data removed]",
      "text/plain": [
       "<Figure size 432x288 with 1 Axes>"
      ]
     },
     "metadata": {
      "needs_background": "light"
     },
     "output_type": "display_data"
    }
   ],
   "source": [
    "# Barplot of Odor grouped by Edible\n",
    "pd.crosstab(mr_sub.Odor, mr_sub.Is_Poisonous).plot(kind='bar')\n",
    "plt.title('Odor Distribution by Edible Status')\n",
    "plt.xlabel('Odor')\n",
    "plt.ylabel('Frequency')\n",
    "plt.legend([\"Edible\", \"Poisonous\"])"
   ]
  },
  {
   "cell_type": "markdown",
   "metadata": {},
   "source": [
    "## Conclusion for Exploratory Data Analysis\n",
    "\n",
    "According to the data analysis we did above, we can conclude that:\n",
    "- The Cap_surface would be a good predictor since the mushrooms with a scaly and smooth surface are likely **poisonous**, but the mushrooms with fibrous are likely **edible**. \n",
    "\n",
    "\n",
    "- The Cap_color would not be a good predictor. The mushrooms with red, buff, pink and yellow color are likely **poisonous**, while the mushrooms with green, purple, or gray are likely **edible**. However, we can't find any apparent laws exist as guidelines. For example, we can't say the mushroom with bright color is **poisonous** since green is intelligent but more likely **edible**. Alternatively, the mushroom with a dark color is **edible** since brown is dark color but **poisonous**.\n",
    "\n",
    "\n",
    "- The Stalk_Shape is a good predictor. The mushrooms with enlarging stalk shape are likely **poisonous**, while the mushrooms with tapering stalk shape are likely **ediable**. \n",
    "\n",
    "\n",
    "- The odor is a good predictor. The mushrooms with almond, anise, or no smell are more likely **edible**, while others are not."
   ]
  },
  {
   "cell_type": "markdown",
   "metadata": {},
   "source": [
    "# Phase II"
   ]
  },
  {
   "cell_type": "markdown",
   "metadata": {},
   "source": [
    "## Prepare Data for Logistic Regression\n",
    "\n",
    "To prepare the data, we want to add dummy variables for Cap_Surface,Cap_Color, Stalk_Shape, and Odor, since we treating them as categorial variables. The dmatrices function from the patsy module can do that using formula language."
   ]
  },
  {
   "cell_type": "code",
   "execution_count": 19,
   "metadata": {},
   "outputs": [
    {
     "name": "stdout",
     "output_type": "stream",
     "text": [
      "Index(['Intercept', 'Cap_Surface_fibrous', 'Cap_Surface_grooves',\n",
      "       'Cap_Surface_scaly', 'Cap_Surface_smooth', 'Cap_Color_brown',\n",
      "       'Cap_Color_buff', 'Cap_Color_cinnamon', 'Cap_Color_gray',\n",
      "       'Cap_Color_green', 'Cap_Color_pink', 'Cap_Color_purple',\n",
      "       'Cap_Color_red', 'Cap_Color_white', 'Cap_Color_yellow',\n",
      "       'Stalk_Shape_tapering', 'Stalk_Shape_enlarging', 'Odor_almond',\n",
      "       'Odor_anise', 'Odor_creosote', 'Odor_fishy', 'Odor_foul', 'Odor_musty',\n",
      "       'Odor_none', 'Odor_pungent', 'Odor_spicy'],\n",
      "      dtype='object')\n"
     ]
    }
   ],
   "source": [
    "y, X = dmatrices(\"Is_Poisonous_1 ~ Cap_Surface_fibrous + Cap_Surface_grooves + Cap_Surface_scaly + Cap_Surface_smooth \\\n",
    "                 + Cap_Color_brown + Cap_Color_buff + Cap_Color_cinnamon + Cap_Color_gray +Cap_Color_green + Cap_Color_pink + Cap_Color_purple + Cap_Color_red + Cap_Color_white + Cap_Color_yellow \\\n",
    "                 + Stalk_Shape_tapering + Stalk_Shape_enlarging \\\n",
    "                 + Odor_almond + Odor_anise + Odor_creosote + Odor_fishy + Odor_foul + + Odor_musty + Odor_none + Odor_pungent + Odor_spicy\", mr_d, return_type=\"dataframe\")\n",
    "print(X.columns)"
   ]
  },
  {
   "cell_type": "markdown",
   "metadata": {},
   "source": [
    "We also need to flatten \"y\" into a 1-D array, so that scikit-learn will properly understand it as the response variable."
   ]
  },
  {
   "cell_type": "code",
   "execution_count": 20,
   "metadata": {},
   "outputs": [],
   "source": [
    "# flatten y into a 1-D array\n",
    "y = np.ravel(y)"
   ]
  },
  {
   "cell_type": "markdown",
   "metadata": {},
   "source": [
    "## Logistic Regression\n",
    "\n",
    "\n",
    "After the preparation above, we run logistic regression on the entire data set, and see how accurate it is."
   ]
  },
  {
   "cell_type": "code",
   "execution_count": 21,
   "metadata": {},
   "outputs": [
    {
     "data": {
      "text/plain": [
       "0.9857213195470211"
      ]
     },
     "execution_count": 21,
     "metadata": {},
     "output_type": "execute_result"
    }
   ],
   "source": [
    "# instantiate a logistic regression model, and fit with X and y\n",
    "model = LogisticRegression(solver='lbfgs')\n",
    "model = model.fit(X, y)\n",
    "\n",
    "# check the accuracy on the training set\n",
    "model.score(X, y)"
   ]
  },
  {
   "cell_type": "markdown",
   "metadata": {},
   "source": [
    "According to the analysis we did above, the accuracy is 98 percent. Now we want to know what's the null error rate?"
   ]
  },
  {
   "cell_type": "code",
   "execution_count": 22,
   "metadata": {},
   "outputs": [
    {
     "data": {
      "text/plain": [
       "0.48202855736090594"
      ]
     },
     "execution_count": 22,
     "metadata": {},
     "output_type": "execute_result"
    }
   ],
   "source": [
    "# what percentage are poisonous?\n",
    "y.mean()"
   ]
  },
  {
   "cell_type": "markdown",
   "metadata": {},
   "source": [
    "48% of the mushrooms in the dataset are poisonous, which means that you could obtain 52 percent accuracy by always predicting \"edible.\" So we're doing better than the null error rate, but not by much.\n",
    "\n",
    "Now we need to examine the coefficients for the dataset."
   ]
  },
  {
   "cell_type": "code",
   "execution_count": 23,
   "metadata": {},
   "outputs": [
    {
     "data": {
      "text/html": [
       "<div>\n",
       "<style scoped>\n",
       "    .dataframe tbody tr th:only-of-type {\n",
       "        vertical-align: middle;\n",
       "    }\n",
       "\n",
       "    .dataframe tbody tr th {\n",
       "        vertical-align: top;\n",
       "    }\n",
       "\n",
       "    .dataframe thead th {\n",
       "        text-align: right;\n",
       "    }\n",
       "</style>\n",
       "<table border=\"1\" class=\"dataframe\">\n",
       "  <thead>\n",
       "    <tr style=\"text-align: right;\">\n",
       "      <th></th>\n",
       "      <th>0</th>\n",
       "      <th>1</th>\n",
       "    </tr>\n",
       "  </thead>\n",
       "  <tbody>\n",
       "    <tr>\n",
       "      <th>21</th>\n",
       "      <td>Odor_foul</td>\n",
       "      <td>[5.387938500546703]</td>\n",
       "    </tr>\n",
       "    <tr>\n",
       "      <th>25</th>\n",
       "      <td>Odor_spicy</td>\n",
       "      <td>[4.806231962048392]</td>\n",
       "    </tr>\n",
       "    <tr>\n",
       "      <th>20</th>\n",
       "      <td>Odor_fishy</td>\n",
       "      <td>[4.8062319620483915]</td>\n",
       "    </tr>\n",
       "    <tr>\n",
       "      <th>19</th>\n",
       "      <td>Odor_creosote</td>\n",
       "      <td>[2.5028069662352337]</td>\n",
       "    </tr>\n",
       "    <tr>\n",
       "      <th>24</th>\n",
       "      <td>Odor_pungent</td>\n",
       "      <td>[2.160006272020464]</td>\n",
       "    </tr>\n",
       "    <tr>\n",
       "      <th>14</th>\n",
       "      <td>Cap_Color_yellow</td>\n",
       "      <td>[1.764050929855902]</td>\n",
       "    </tr>\n",
       "    <tr>\n",
       "      <th>2</th>\n",
       "      <td>Cap_Surface_grooves</td>\n",
       "      <td>[1.645794263391393]</td>\n",
       "    </tr>\n",
       "    <tr>\n",
       "      <th>6</th>\n",
       "      <td>Cap_Color_buff</td>\n",
       "      <td>[1.4147328858046402]</td>\n",
       "    </tr>\n",
       "    <tr>\n",
       "      <th>10</th>\n",
       "      <td>Cap_Color_pink</td>\n",
       "      <td>[1.2741705710264006]</td>\n",
       "    </tr>\n",
       "    <tr>\n",
       "      <th>16</th>\n",
       "      <td>Stalk_Shape_enlarging</td>\n",
       "      <td>[1.1124177708554217]</td>\n",
       "    </tr>\n",
       "    <tr>\n",
       "      <th>22</th>\n",
       "      <td>Odor_musty</td>\n",
       "      <td>[1.0774021020462747]</td>\n",
       "    </tr>\n",
       "    <tr>\n",
       "      <th>13</th>\n",
       "      <td>Cap_Color_white</td>\n",
       "      <td>[0.5662960902666816]</td>\n",
       "    </tr>\n",
       "    <tr>\n",
       "      <th>0</th>\n",
       "      <td>Intercept</td>\n",
       "      <td>[0.00022096889586067881]</td>\n",
       "    </tr>\n",
       "    <tr>\n",
       "      <th>3</th>\n",
       "      <td>Cap_Surface_scaly</td>\n",
       "      <td>[-0.0406558553953483]</td>\n",
       "    </tr>\n",
       "    <tr>\n",
       "      <th>5</th>\n",
       "      <td>Cap_Color_brown</td>\n",
       "      <td>[-0.4523112534461828]</td>\n",
       "    </tr>\n",
       "    <tr>\n",
       "      <th>12</th>\n",
       "      <td>Cap_Color_red</td>\n",
       "      <td>[-0.49749166315992127]</td>\n",
       "    </tr>\n",
       "    <tr>\n",
       "      <th>4</th>\n",
       "      <td>Cap_Surface_smooth</td>\n",
       "      <td>[-0.6710014208301247]</td>\n",
       "    </tr>\n",
       "    <tr>\n",
       "      <th>7</th>\n",
       "      <td>Cap_Color_cinnamon</td>\n",
       "      <td>[-0.8912700580216532]</td>\n",
       "    </tr>\n",
       "    <tr>\n",
       "      <th>11</th>\n",
       "      <td>Cap_Color_purple</td>\n",
       "      <td>[-0.9109639711026443]</td>\n",
       "    </tr>\n",
       "    <tr>\n",
       "      <th>9</th>\n",
       "      <td>Cap_Color_green</td>\n",
       "      <td>[-0.9109639711026443]</td>\n",
       "    </tr>\n",
       "    <tr>\n",
       "      <th>1</th>\n",
       "      <td>Cap_Surface_fibrous</td>\n",
       "      <td>[-0.9339160182701037]</td>\n",
       "    </tr>\n",
       "    <tr>\n",
       "      <th>15</th>\n",
       "      <td>Stalk_Shape_tapering</td>\n",
       "      <td>[-1.1121968019600064]</td>\n",
       "    </tr>\n",
       "    <tr>\n",
       "      <th>8</th>\n",
       "      <td>Cap_Color_gray</td>\n",
       "      <td>[-1.3560285912246235]</td>\n",
       "    </tr>\n",
       "    <tr>\n",
       "      <th>23</th>\n",
       "      <td>Odor_none</td>\n",
       "      <td>[-4.930162766500898]</td>\n",
       "    </tr>\n",
       "    <tr>\n",
       "      <th>17</th>\n",
       "      <td>Odor_almond</td>\n",
       "      <td>[-7.905117014774606]</td>\n",
       "    </tr>\n",
       "    <tr>\n",
       "      <th>18</th>\n",
       "      <td>Odor_anise</td>\n",
       "      <td>[-7.905117014774606]</td>\n",
       "    </tr>\n",
       "  </tbody>\n",
       "</table>\n",
       "</div>"
      ],
      "text/plain": [
       "                        0                         1\n",
       "21              Odor_foul       [5.387938500546703]\n",
       "25             Odor_spicy       [4.806231962048392]\n",
       "20             Odor_fishy      [4.8062319620483915]\n",
       "19          Odor_creosote      [2.5028069662352337]\n",
       "24           Odor_pungent       [2.160006272020464]\n",
       "14       Cap_Color_yellow       [1.764050929855902]\n",
       "2     Cap_Surface_grooves       [1.645794263391393]\n",
       "6          Cap_Color_buff      [1.4147328858046402]\n",
       "10         Cap_Color_pink      [1.2741705710264006]\n",
       "16  Stalk_Shape_enlarging      [1.1124177708554217]\n",
       "22             Odor_musty      [1.0774021020462747]\n",
       "13        Cap_Color_white      [0.5662960902666816]\n",
       "0               Intercept  [0.00022096889586067881]\n",
       "3       Cap_Surface_scaly     [-0.0406558553953483]\n",
       "5         Cap_Color_brown     [-0.4523112534461828]\n",
       "12          Cap_Color_red    [-0.49749166315992127]\n",
       "4      Cap_Surface_smooth     [-0.6710014208301247]\n",
       "7      Cap_Color_cinnamon     [-0.8912700580216532]\n",
       "11       Cap_Color_purple     [-0.9109639711026443]\n",
       "9         Cap_Color_green     [-0.9109639711026443]\n",
       "1     Cap_Surface_fibrous     [-0.9339160182701037]\n",
       "15   Stalk_Shape_tapering     [-1.1121968019600064]\n",
       "8          Cap_Color_gray     [-1.3560285912246235]\n",
       "23              Odor_none      [-4.930162766500898]\n",
       "17            Odor_almond      [-7.905117014774606]\n",
       "18             Odor_anise      [-7.905117014774606]"
      ]
     },
     "execution_count": 23,
     "metadata": {},
     "output_type": "execute_result"
    }
   ],
   "source": [
    "# examine the coefficients\n",
    "pd.DataFrame(list(zip(X.columns, np.transpose(model.coef_)))).sort_values(by=1, ascending=False, na_position='first')"
   ]
  },
  {
   "cell_type": "markdown",
   "metadata": {},
   "source": [
    "According to the analysis,we can conclude that:\n",
    "* The **Odor** could be a good predictor of whether the mushroom is edible or poisonous. The mushrooms with \"good\" smell, such as anise or almond, are **barely poisonous**. While the mushrooms with \"pungent\" smell such as foul, fishy, or spicy are more **likely poisonous**. Also, the slope number is either \"5\" or \"-7\", which can be easily distinguished. \n",
    "\n",
    "\n",
    "* The **Cap color** would not be a good predictor of whether a mushroom is edible. Difference between the max and min slope number is only 3.11 (1.76-(-1.35)) which is hard to be distinguished.\n",
    "\n",
    "\n",
    "* The **Stalk shape** is a good predictor since there are only to category and the table above shows that the mushroom with **enlarging stalk shape** is more likely **poisonous**, while the mushroom with **tapering stalk shape** is more likely **edible**\n",
    "\n",
    "\n",
    "* The **Cap surface** is not a good predictor. The result from the scikit-learn analysis shows that the mushroom with **scaly, smooth, and fibrous** are more likely **edible**, while the mushroom with the **groover cap surface** is more likely **poisonous**. The result from the scikit-learn analysis is inconsistent with the Exploratory analysis."
   ]
  },
  {
   "cell_type": "markdown",
   "metadata": {},
   "source": [
    "## Model Evaluation Using a Validation Set\n",
    "\n",
    "To evaluate our model, we decide to split the data into a training set and a testing set."
   ]
  },
  {
   "cell_type": "code",
   "execution_count": 24,
   "metadata": {},
   "outputs": [
    {
     "data": {
      "text/plain": [
       "LogisticRegression(C=1.0, class_weight=None, dual=False, fit_intercept=True,\n",
       "          intercept_scaling=1, max_iter=100, multi_class='warn',\n",
       "          n_jobs=None, penalty='l2', random_state=None, solver='lbfgs',\n",
       "          tol=0.0001, verbose=0, warm_start=False)"
      ]
     },
     "execution_count": 24,
     "metadata": {},
     "output_type": "execute_result"
    }
   ],
   "source": [
    "# evaluate the model by splitting into train and test sets\n",
    "X_train, X_test, y_train, y_test = train_test_split(X, y, test_size=0.3, random_state=0)\n",
    "model2 = LogisticRegression(solver='lbfgs')\n",
    "model2.fit(X_train, y_train)"
   ]
  },
  {
   "cell_type": "markdown",
   "metadata": {},
   "source": [
    "We now need to predict class labels for the test set. We will also generate the class probabilities and take a look of it."
   ]
  },
  {
   "cell_type": "code",
   "execution_count": 25,
   "metadata": {},
   "outputs": [
    {
     "name": "stdout",
     "output_type": "stream",
     "text": [
      "[1. 0. 0. ... 1. 1. 1.]\n"
     ]
    }
   ],
   "source": [
    "# predict class labels for the test set\n",
    "predicted = model2.predict(X_test)\n",
    "print(predicted)"
   ]
  },
  {
   "cell_type": "code",
   "execution_count": 26,
   "metadata": {},
   "outputs": [
    {
     "name": "stdout",
     "output_type": "stream",
     "text": [
      "[[0.01144801 0.98855199]\n",
      " [0.99479786 0.00520214]\n",
      " [0.95135337 0.04864663]\n",
      " ...\n",
      " [0.00467728 0.99532272]\n",
      " [0.00849431 0.99150569]\n",
      " [0.00860966 0.99139034]]\n"
     ]
    }
   ],
   "source": [
    "# generate class probabilities\n",
    "probs = model2.predict_proba(X_test)\n",
    "print(probs)"
   ]
  },
  {
   "cell_type": "code",
   "execution_count": 27,
   "metadata": {},
   "outputs": [
    {
     "name": "stdout",
     "output_type": "stream",
     "text": [
      "0.9868744872846595\n",
      "0.9993230633138074\n"
     ]
    }
   ],
   "source": [
    "# generate evaluation metrics\n",
    "print (metrics.accuracy_score(y_test, predicted))\n",
    "print (metrics.roc_auc_score(y_test, probs[:, 1]))"
   ]
  },
  {
   "cell_type": "code",
   "execution_count": 28,
   "metadata": {
    "scrolled": true
   },
   "outputs": [
    {
     "name": "stdout",
     "output_type": "stream",
     "text": [
      "[[1272    0]\n",
      " [  32 1134]]\n",
      "              precision    recall  f1-score   support\n",
      "\n",
      "         0.0       0.98      1.00      0.99      1272\n",
      "         1.0       1.00      0.97      0.99      1166\n",
      "\n",
      "   micro avg       0.99      0.99      0.99      2438\n",
      "   macro avg       0.99      0.99      0.99      2438\n",
      "weighted avg       0.99      0.99      0.99      2438\n",
      "\n"
     ]
    }
   ],
   "source": [
    "print (metrics.confusion_matrix(y_test, predicted))\n",
    "print (metrics.classification_report(y_test, predicted))"
   ]
  },
  {
   "cell_type": "markdown",
   "metadata": {},
   "source": [
    "The result from the model Evaluation using a validation set shows that the  accuracy is 98%, which is the same as we experienced when training and predicting on the same data.  "
   ]
  },
  {
   "cell_type": "markdown",
   "metadata": {},
   "source": [
    "## Model Evaluation Using Cross-Validation"
   ]
  },
  {
   "cell_type": "markdown",
   "metadata": {},
   "source": [
    "Now we do 10-fold cross-validation, to see if the accuracy holds up more rigorously."
   ]
  },
  {
   "cell_type": "code",
   "execution_count": 29,
   "metadata": {},
   "outputs": [
    {
     "name": "stdout",
     "output_type": "stream",
     "text": [
      "[1.         0.99876999 0.99507995 0.98769988 0.94341943 0.93726937\n",
      " 1.         1.         0.88039457 0.99506782]\n",
      "0.9737701014494732\n"
     ]
    }
   ],
   "source": [
    "# evaluate the model using 10-fold cross-validation\n",
    "scores = cross_val_score(LogisticRegression(solver='lbfgs'), X, y, scoring='accuracy', cv=10)\n",
    "print (scores)\n",
    "print (scores.mean())"
   ]
  },
  {
   "cell_type": "markdown",
   "metadata": {},
   "source": [
    "Since the 10-fold cross-validation shows the 98% accuracy, we can conclude our model is efficient. We'll have other processes to test the accuracy of our model."
   ]
  },
  {
   "cell_type": "markdown",
   "metadata": {},
   "source": [
    "## Factor Analysis\n",
    "\n",
    "Since the accuracy of our model is 98 percent which might seems overfitting, We need to test the accuracy of our model by removing the factors."
   ]
  },
  {
   "cell_type": "code",
   "execution_count": 30,
   "metadata": {},
   "outputs": [
    {
     "name": "stdout",
     "output_type": "stream",
     "text": [
      "Index(['Intercept', 'Cap_Surface_fibrous', 'Cap_Surface_grooves',\n",
      "       'Cap_Surface_scaly', 'Cap_Surface_smooth', 'Cap_Color_brown',\n",
      "       'Cap_Color_buff', 'Cap_Color_cinnamon', 'Cap_Color_gray',\n",
      "       'Cap_Color_green', 'Cap_Color_pink', 'Cap_Color_purple',\n",
      "       'Cap_Color_red', 'Cap_Color_white', 'Cap_Color_yellow',\n",
      "       'Stalk_Shape_tapering', 'Stalk_Shape_enlarging'],\n",
      "      dtype='object')\n"
     ]
    },
    {
     "data": {
      "text/plain": [
       "0.5918266863613983"
      ]
     },
     "execution_count": 30,
     "metadata": {},
     "output_type": "execute_result"
    }
   ],
   "source": [
    "y, X = dmatrices(\"Is_Poisonous_1 ~ Cap_Surface_fibrous + Cap_Surface_grooves + Cap_Surface_scaly + Cap_Surface_smooth \\\n",
    "                 + Cap_Color_brown + Cap_Color_buff + Cap_Color_cinnamon + Cap_Color_gray +Cap_Color_green + Cap_Color_pink + Cap_Color_purple + Cap_Color_red + Cap_Color_white + Cap_Color_yellow \\\n",
    "                 + Stalk_Shape_tapering + Stalk_Shape_enlarging \", mr_d, return_type=\"dataframe\")\n",
    "print(X.columns)\n",
    "# flatten y into a 1-D array\n",
    "y = np.ravel(y)\n",
    "\n",
    "# instantiate a logistic regression model, and fit with X and y\n",
    "model = LogisticRegression(solver='lbfgs')\n",
    "model = model.fit(X, y)\n",
    "\n",
    "# check the accuracy on the training set\n",
    "model.score(X, y)"
   ]
  },
  {
   "cell_type": "code",
   "execution_count": 31,
   "metadata": {},
   "outputs": [
    {
     "name": "stdout",
     "output_type": "stream",
     "text": [
      "Index(['Intercept', 'Cap_Surface_fibrous', 'Cap_Surface_grooves',\n",
      "       'Cap_Surface_scaly', 'Cap_Surface_smooth', 'Cap_Color_brown',\n",
      "       'Cap_Color_buff', 'Cap_Color_cinnamon', 'Cap_Color_gray',\n",
      "       'Cap_Color_green', 'Cap_Color_pink', 'Cap_Color_purple',\n",
      "       'Cap_Color_red', 'Cap_Color_white', 'Cap_Color_yellow'],\n",
      "      dtype='object')\n"
     ]
    },
    {
     "data": {
      "text/plain": [
       "0.6011816838995568"
      ]
     },
     "execution_count": 31,
     "metadata": {},
     "output_type": "execute_result"
    }
   ],
   "source": [
    "y, X = dmatrices(\"Is_Poisonous_1 ~ Cap_Surface_fibrous + Cap_Surface_grooves + Cap_Surface_scaly + Cap_Surface_smooth \\\n",
    "                 + Cap_Color_brown + Cap_Color_buff + Cap_Color_cinnamon + Cap_Color_gray +Cap_Color_green + Cap_Color_pink + Cap_Color_purple + Cap_Color_red + Cap_Color_white + Cap_Color_yellow\", mr_d, return_type=\"dataframe\")\n",
    "print(X.columns)\n",
    "# flatten y into a 1-D array\n",
    "y = np.ravel(y)\n",
    "\n",
    "# instantiate a logistic regression model, and fit with X and y\n",
    "model = LogisticRegression(solver='lbfgs')\n",
    "model = model.fit(X, y)\n",
    "\n",
    "# check the accuracy on the training set\n",
    "model.score(X, y)"
   ]
  },
  {
   "cell_type": "code",
   "execution_count": 32,
   "metadata": {},
   "outputs": [
    {
     "name": "stdout",
     "output_type": "stream",
     "text": [
      "Index(['Intercept', 'Cap_Surface_fibrous', 'Cap_Surface_grooves',\n",
      "       'Cap_Surface_scaly', 'Cap_Surface_smooth', 'Stalk_Shape_tapering',\n",
      "       'Stalk_Shape_enlarging'],\n",
      "      dtype='object')\n"
     ]
    },
    {
     "data": {
      "text/plain": [
       "0.5805022156573116"
      ]
     },
     "execution_count": 32,
     "metadata": {},
     "output_type": "execute_result"
    }
   ],
   "source": [
    "y, X = dmatrices(\"Is_Poisonous_1 ~ Cap_Surface_fibrous + Cap_Surface_grooves + Cap_Surface_scaly + Cap_Surface_smooth \\\n",
    "                 + Stalk_Shape_tapering + Stalk_Shape_enlarging \", mr_d, return_type=\"dataframe\")\n",
    "print(X.columns)\n",
    "# flatten y into a 1-D array\n",
    "y = np.ravel(y)\n",
    "\n",
    "# instantiate a logistic regression model, and fit with X and y\n",
    "model = LogisticRegression(solver='lbfgs')\n",
    "model = model.fit(X, y)\n",
    "\n",
    "# check the accuracy on the training set\n",
    "model.score(X, y)"
   ]
  },
  {
   "cell_type": "code",
   "execution_count": 33,
   "metadata": {},
   "outputs": [
    {
     "name": "stdout",
     "output_type": "stream",
     "text": [
      "Index(['Intercept', 'Cap_Color_brown', 'Cap_Color_buff', 'Cap_Color_cinnamon',\n",
      "       'Cap_Color_gray', 'Cap_Color_green', 'Cap_Color_pink',\n",
      "       'Cap_Color_purple', 'Cap_Color_red', 'Cap_Color_white',\n",
      "       'Cap_Color_yellow', 'Stalk_Shape_tapering', 'Stalk_Shape_enlarging'],\n",
      "      dtype='object')\n"
     ]
    },
    {
     "data": {
      "text/plain": [
       "0.6302314130969966"
      ]
     },
     "execution_count": 33,
     "metadata": {},
     "output_type": "execute_result"
    }
   ],
   "source": [
    "y, X = dmatrices(\"Is_Poisonous_1 ~ + Cap_Color_brown + Cap_Color_buff + Cap_Color_cinnamon + Cap_Color_gray +Cap_Color_green + Cap_Color_pink + Cap_Color_purple + Cap_Color_red + Cap_Color_white + Cap_Color_yellow \\\n",
    "                 + Stalk_Shape_tapering + Stalk_Shape_enlarging \", mr_d, return_type=\"dataframe\")\n",
    "print(X.columns)\n",
    "# flatten y into a 1-D array\n",
    "y = np.ravel(y)\n",
    "\n",
    "# instantiate a logistic regression model, and fit with X and y\n",
    "model = LogisticRegression(solver='lbfgs')\n",
    "model = model.fit(X, y)\n",
    "\n",
    "# check the accuracy on the training set\n",
    "model.score(X, y)"
   ]
  },
  {
   "cell_type": "code",
   "execution_count": 34,
   "metadata": {},
   "outputs": [
    {
     "name": "stdout",
     "output_type": "stream",
     "text": [
      "Index(['Intercept', 'Cap_Surface_fibrous', 'Cap_Surface_grooves',\n",
      "       'Cap_Surface_scaly', 'Cap_Surface_smooth'],\n",
      "      dtype='object')\n"
     ]
    },
    {
     "data": {
      "text/plain": [
       "0.5805022156573116"
      ]
     },
     "execution_count": 34,
     "metadata": {},
     "output_type": "execute_result"
    }
   ],
   "source": [
    "y, X = dmatrices(\"Is_Poisonous_1 ~ Cap_Surface_fibrous + Cap_Surface_grooves + Cap_Surface_scaly + Cap_Surface_smooth\", mr_d, return_type=\"dataframe\")\n",
    "\n",
    "print(X.columns)\n",
    "# flatten y into a 1-D array\n",
    "y = np.ravel(y)\n",
    "\n",
    "# instantiate a logistic regression model, and fit with X and y\n",
    "model = LogisticRegression(solver='lbfgs')\n",
    "model = model.fit(X, y)\n",
    "\n",
    "# check the accuracy on the training set\n",
    "model.score(X, y)"
   ]
  },
  {
   "cell_type": "code",
   "execution_count": 35,
   "metadata": {},
   "outputs": [
    {
     "name": "stdout",
     "output_type": "stream",
     "text": [
      "Index(['Intercept', 'Stalk_Shape_tapering', 'Stalk_Shape_enlarging'], dtype='object')\n"
     ]
    },
    {
     "data": {
      "text/plain": [
       "0.5529295913343181"
      ]
     },
     "execution_count": 35,
     "metadata": {},
     "output_type": "execute_result"
    }
   ],
   "source": [
    "y, X = dmatrices(\"Is_Poisonous_1 ~ Stalk_Shape_tapering + Stalk_Shape_enlarging\", mr_d, return_type=\"dataframe\")\n",
    "print(X.columns)\n",
    "# flatten y into a 1-D array\n",
    "y = np.ravel(y)\n",
    "\n",
    "# instantiate a logistic regression model, and fit with X and y\n",
    "model = LogisticRegression(solver='lbfgs')\n",
    "model = model.fit(X, y)\n",
    "\n",
    "# check the accuracy on the training set\n",
    "model.score(X, y)"
   ]
  },
  {
   "cell_type": "code",
   "execution_count": 36,
   "metadata": {},
   "outputs": [
    {
     "name": "stdout",
     "output_type": "stream",
     "text": [
      "Index(['Intercept', 'Cap_Color_brown', 'Cap_Color_buff', 'Cap_Color_cinnamon',\n",
      "       'Cap_Color_gray', 'Cap_Color_green', 'Cap_Color_pink',\n",
      "       'Cap_Color_purple', 'Cap_Color_red', 'Cap_Color_white',\n",
      "       'Cap_Color_yellow'],\n",
      "      dtype='object')\n"
     ]
    },
    {
     "data": {
      "text/plain": [
       "0.5952732644017725"
      ]
     },
     "execution_count": 36,
     "metadata": {},
     "output_type": "execute_result"
    }
   ],
   "source": [
    "y, X = dmatrices(\"Is_Poisonous_1 ~ Cap_Color_brown + Cap_Color_buff + Cap_Color_cinnamon + Cap_Color_gray +Cap_Color_green + Cap_Color_pink + Cap_Color_purple + Cap_Color_red + Cap_Color_white + Cap_Color_yellow\", mr_d, return_type=\"dataframe\")\n",
    "print(X.columns)\n",
    "\n",
    "# flatten y into a 1-D array\n",
    "y = np.ravel(y)\n",
    "\n",
    "# instantiate a logistic regression model, and fit with X and y\n",
    "model = LogisticRegression(solver='lbfgs')\n",
    "model = model.fit(X, y)\n",
    "\n",
    "# check the accuracy on the training set\n",
    "model.score(X, y)"
   ]
  },
  {
   "cell_type": "code",
   "execution_count": 37,
   "metadata": {},
   "outputs": [
    {
     "name": "stdout",
     "output_type": "stream",
     "text": [
      "Index(['Intercept', 'Odor_almond', 'Odor_anise', 'Odor_creosote', 'Odor_fishy',\n",
      "       'Odor_foul', 'Odor_musty', 'Odor_none', 'Odor_pungent', 'Odor_spicy'],\n",
      "      dtype='object')\n"
     ]
    },
    {
     "data": {
      "text/plain": [
       "0.9852289512555391"
      ]
     },
     "execution_count": 37,
     "metadata": {},
     "output_type": "execute_result"
    }
   ],
   "source": [
    "y, X = dmatrices(\"Is_Poisonous_1 ~Odor_almond + Odor_anise + Odor_creosote + Odor_fishy + Odor_foul + + Odor_musty + Odor_none + Odor_pungent + Odor_spicy\", mr_d, return_type=\"dataframe\")\n",
    "print(X.columns)\n",
    "\n",
    "# flatten y into a 1-D array\n",
    "y = np.ravel(y)\n",
    "\n",
    "# instantiate a logistic regression model, and fit with X and y\n",
    "model = LogisticRegression(solver='lbfgs')\n",
    "model = model.fit(X, y)\n",
    "\n",
    "# check the accuracy on the training set\n",
    "model.score(X, y)"
   ]
  },
  {
   "cell_type": "markdown",
   "metadata": {},
   "source": [
    "Based on the factor analysis, we find that: \n",
    "* The odor is the most accurate predictor(98.5) of whether the mushroom is edible or poisonous among all factors in our model. \n",
    "* The model only contains Cap_color has 59 percent accuracy, the model only contains Cap_surface has 58 percent accuracy, and the model only contains Stalk_Shape has 55 percent accuracy.\n",
    "\n",
    "* The module contains the combination of Cap_Color, and Stalk_Shape factor would have 63 percent accuracy is the highest accuracy among all two-two factor combination model.\n",
    "\n",
    "In general, using Odor to predict whether the mushroom is poisonous or not is the most effective way and has 0.985 accuracy rate."
   ]
  },
  {
   "cell_type": "code",
   "execution_count": null,
   "metadata": {},
   "outputs": [],
   "source": []
  }
 ],
 "metadata": {
  "kernelspec": {
   "display_name": "Python 3",
   "language": "python",
   "name": "python3"
  },
  "language_info": {
   "codemirror_mode": {
    "name": "ipython",
    "version": 3
   },
   "file_extension": ".py",
   "mimetype": "text/x-python",
   "name": "python",
   "nbconvert_exporter": "python",
   "pygments_lexer": "ipython3",
   "version": "3.7.3"
  }
 },
 "nbformat": 4,
 "nbformat_minor": 2
}
