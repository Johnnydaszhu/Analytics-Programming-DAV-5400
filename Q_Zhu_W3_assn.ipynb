{
 "cells": [
  {
   "cell_type": "code",
   "execution_count": 33,
   "metadata": {},
   "outputs": [
    {
     "data": {
      "text/plain": [
       "35"
      ]
     },
     "execution_count": 33,
     "metadata": {},
     "output_type": "execute_result"
    }
   ],
   "source": [
    "#import the dataset\n",
    "import csv\n",
    "#Create list\n",
    "Price_list = []\n",
    "Maintenance_cost_list = []\n",
    "Number_of_doors = []\n",
    "Number_of_passengers = []\n",
    "Luggage_capacity = []\n",
    "Safety_rating = []\n",
    "Classification_of_vehicle = []\n",
    "\n",
    "with open('/Users/johnnyzhu/Downloads/cars-sample35.txt') as csvfile: \n",
    "    readCSV = csv.reader(csvfile)\n",
    "    for row in readCSV:\n",
    "        #Use list[] to slice the elements sequently \n",
    "        Price_list.append(row[0])\n",
    "        Maintenance_cost_list.append(row[1])\n",
    "        Number_of_doors.append(row[2])\n",
    "        Number_of_passengers.append(row[3])\n",
    "        Luggage_capacity.append(row[4])\n",
    "        Safety_rating.append(row[5])\n",
    "        Classification_of_vehicle.append(row[6])"
   ]
  },
  {
   "cell_type": "markdown",
   "metadata": {},
   "source": [
    "# Task 1:\n",
    "find the list index values of each automobile having a price rating of \"med\" using a list comprehension"
   ]
  },
  {
   "cell_type": "code",
   "execution_count": 115,
   "metadata": {
    "scrolled": true
   },
   "outputs": [
    {
     "name": "stdout",
     "output_type": "stream",
     "text": [
      "[6, 16, 20, 23, 26, 29]\n"
     ]
    }
   ],
   "source": [
    "\n",
    "\n",
    "medprice_index_list = [i for i in range(35) if Price_list[i] == \"med\"]  #loop 35 rows in Price_list if it is \"med\"\n",
    "print(medprice_index_list)"
   ]
  },
  {
   "cell_type": "markdown",
   "metadata": {},
   "source": [
    "# Task 2:  \n",
    "find the \"number of passengers\" value for each auto having a \"price\" value of \"med\" using a list comprehension"
   ]
  },
  {
   "cell_type": "code",
   "execution_count": 16,
   "metadata": {},
   "outputs": [
    {
     "name": "stdout",
     "output_type": "stream",
     "text": [
      "['more', '2', '2', '2', '4', '2']\n"
     ]
    }
   ],
   "source": [
    "Number_of_passengers_value = [Number_of_passengers[i] for i in medprice_index_list] #loop 35 rows in medprice_index_list if it is \"med\"\n",
    "print(Number_of_passengers_value)"
   ]
  },
  {
   "cell_type": "markdown",
   "metadata": {},
   "source": [
    "# Task 3: \n",
    "find the index value for each automobile having a price value of \"high\" and a maintenance value that is not \"low\" using a list comprehension"
   ]
  },
  {
   "cell_type": "code",
   "execution_count": 12,
   "metadata": {},
   "outputs": [
    {
     "name": "stdout",
     "output_type": "stream",
     "text": [
      "[0, 1, 2, 27, 31]\n"
     ]
    }
   ],
   "source": [
    "#use \"and\" to loop 35 rows with two statements\n",
    "highprice_notlowmain_index = [i for i in range(35) if Price_list[i] == \"high\" and Maintenance_cost_list[i] != \"low\" ]\n",
    "print(highprice_notlowmain_index)"
   ]
  },
  {
   "cell_type": "markdown",
   "metadata": {},
   "source": [
    "# Task 4: \n",
    "extract each individual element of the component lists contained within nlist and add them to a new list using a list comprehension"
   ]
  },
  {
   "cell_type": "code",
   "execution_count": 129,
   "metadata": {},
   "outputs": [
    {
     "name": "stdout",
     "output_type": "stream",
     "text": [
      "[1, 2, 3, 'A', 'B', 'C', 4, 5, 'D', 'E']\n"
     ]
    }
   ],
   "source": [
    "nlist = [ [1, 2, 3], ['A', 'B', 'C'], [4, 5], ['D', 'E'] ]\n",
    "\n",
    "#y is the target parameter \n",
    "flist = [y for x in nlist for y in x] # I don't know how to explain\n",
    "print(flist)"
   ]
  },
  {
   "cell_type": "markdown",
   "metadata": {},
   "source": [
    "# Task 5:\n",
    "create a user defined function that accepts as input one of the seven automobile attribute lists as well as an integer value and returns a Python dict object\n",
    "create two new dict objects containing the first seven elements of the ‘Price’ and ‘Luggage’ lists, respectively. Then, use these dict objects to tell us the price and luggage capacity of the auto identified by the ‘A4’ key value."
   ]
  },
  {
   "cell_type": "code",
   "execution_count": 117,
   "metadata": {},
   "outputs": [
    {
     "name": "stdout",
     "output_type": "stream",
     "text": [
      "Price: {'A0': 'med', 'A1': 'small', 'A2': 'big', 'A3': 'big', 'A4': 'med', 'A5': 'small', 'A6': 'med'}\n",
      "Luggage: {'A0': 'high', 'A1': 'high', 'A2': 'high', 'A3': 'high', 'A4': 'vhigh', 'A5': 'low', 'A6': 'med'}\n"
     ]
    }
   ],
   "source": [
    "def makedict(mylist, x):\n",
    "    newdict = {} # create a dic\n",
    "    int_list = [] # create an empty list with int\n",
    "    y = 0\n",
    "    for x in range(0,x):\n",
    "        int_list.append(\"A\" + str(x))   #comcentrate \"A\" and number \n",
    "        newdict[int_list[x]] = mylist[y] #looping in int_list, use the int_list to pair the mylist that inputed\n",
    "        y = y +1 # incremental process\n",
    "        if y > (len(Price_list)-1): #deal with the limit of indexing number\n",
    "            break\n",
    "    return(newdict)\n",
    "\n",
    "print(\"Price:\", makedict(Luggage_capacity,7))\n",
    "print(\"Luggage:\",makedict(Price_list,7))\n"
   ]
  },
  {
   "cell_type": "code",
   "execution_count": 128,
   "metadata": {},
   "outputs": [
    {
     "name": "stdout",
     "output_type": "stream",
     "text": [
      "med\n",
      "vhigh\n"
     ]
    }
   ],
   "source": [
    "print(makedict(Luggage_capacity,7)[\"A4\"])\n",
    "print(makedict(Price_list,7)[\"A4\"])"
   ]
  },
  {
   "cell_type": "code",
   "execution_count": null,
   "metadata": {},
   "outputs": [],
   "source": []
  }
 ],
 "metadata": {
  "kernelspec": {
   "display_name": "Python 3",
   "language": "python",
   "name": "python3"
  },
  "language_info": {
   "codemirror_mode": {
    "name": "ipython",
    "version": 3
   },
   "file_extension": ".py",
   "mimetype": "text/x-python",
   "name": "python",
   "nbconvert_exporter": "python",
   "pygments_lexer": "ipython3",
   "version": "3.7.0"
  }
 },
 "nbformat": 4,
 "nbformat_minor": 2
}
