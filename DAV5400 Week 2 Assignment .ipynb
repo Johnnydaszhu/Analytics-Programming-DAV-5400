{
 "cells": [
  {
   "cell_type": "code",
   "execution_count": 151,
   "metadata": {
    "scrolled": true
   },
   "outputs": [
    {
     "name": "stdout",
     "output_type": "stream",
     "text": [
      "['high', 'high', '2', '4', 'med', 'low', 'unacc']\n",
      "['high', 'high', '4', 'more', 'small', 'high', 'acc']\n",
      "['high', 'high', '4', 'more', 'big', 'low', 'unacc']\n",
      "['high', 'low', '2', 'more', 'big', 'high', 'acc']\n",
      "['vhigh', 'low', '3', '2', 'med', 'med', 'unacc']\n",
      "['low', 'high', '2', '2', 'small', 'low', 'unacc']\n",
      "['med', 'med', '4', 'more', 'med', 'high', 'vgood']\n",
      "['low', 'low', '3', '2', 'big', 'med', 'unacc']\n",
      "['vhigh', 'low', '2', '2', 'small', 'low', 'unacc']\n",
      "['vhigh', 'high', '4', '4', 'med', 'low', 'unacc']\n",
      "['low', 'low', '2', '2', 'med', 'med', 'unacc']\n",
      "['vhigh', 'low', '4', 'more', 'small', 'high', 'acc']\n",
      "['high', 'low', '2', '4', 'big', 'med', 'acc']\n",
      "['low', 'vhigh', '3', 'more', 'big', 'low', 'unacc']\n",
      "['high', 'low', '5more', '2', 'big', 'med', 'unacc']\n",
      "['vhigh', 'high', '2', 'more', 'med', 'high', 'unacc']\n",
      "['med', 'med', '2', '2', 'small', 'low', 'unacc']\n",
      "['high', 'low', '5more', '4', 'med', 'high', 'acc']\n",
      "['low', 'low', '3', 'more', 'med', 'high', 'vgood']\n",
      "['low', 'low', '2', '2', 'big', 'med', 'unacc']\n",
      "['med', 'high', '4', '2', 'big', 'high', 'unacc']\n",
      "['low', 'low', '2', '2', 'small', 'high', 'unacc']\n",
      "['vhigh', 'high', '5more', '4', 'med', 'med', 'unacc']\n",
      "['med', 'vhigh', '2', '2', 'big', 'low', 'unacc']\n",
      "['low', 'vhigh', '4', '4', 'big', 'low', 'unacc']\n",
      "['vhigh', 'low', '3', 'more', 'big', 'low', 'unacc']\n",
      "['med', 'vhigh', '3', '4', 'small', 'low', 'unacc']\n",
      "['high', 'high', '3', '4', 'med', 'med', 'unacc']\n",
      "['low', 'high', '5more', '2', 'big', 'low', 'unacc']\n",
      "['med', 'high', '5more', '2', 'med', 'med', 'unacc']\n",
      "['high', 'low', '3', '4', 'med', 'high', 'acc']\n",
      "['high', 'vhigh', '5more', '4', 'med', 'med', 'unacc']\n",
      "['low', 'low', '5more', '2', 'med', 'low', 'unacc']\n",
      "['vhigh', 'vhigh', '4', '2', 'big', 'high', 'unacc']\n",
      "['high', 'low', '3', '2', 'big', 'high', 'unacc']\n"
     ]
    }
   ],
   "source": [
    "import csv\n",
    "with open('/Users/johnnyzhu/Downloads/cars-sample35.txt') as csvfile: \n",
    "    x = readCSV = list(csv.reader(csvfile))\n",
    "    for row in readCSV:\n",
    "        print(row)"
   ]
  },
  {
   "cell_type": "code",
   "execution_count": 132,
   "metadata": {},
   "outputs": [
    {
     "name": "stdout",
     "output_type": "stream",
     "text": [
      "Price_list: \n",
      " ['high', 'high', 'high', 'high', 'vhigh', 'low', 'med', 'low', 'vhigh', 'vhigh', 'low', 'vhigh', 'high', 'low', 'high', 'vhigh', 'med', 'high', 'low', 'low', 'med', 'low', 'vhigh', 'med', 'low', 'vhigh', 'med', 'high', 'low', 'med', 'high', 'high', 'low', 'vhigh', 'high']\n",
      "\n",
      "\n",
      "Maintenance_cost_list: \n",
      " ['high', 'high', 'high', 'low', 'low', 'high', 'med', 'low', 'low', 'high', 'low', 'low', 'low', 'vhigh', 'low', 'high', 'med', 'low', 'low', 'low', 'high', 'low', 'high', 'vhigh', 'vhigh', 'low', 'vhigh', 'high', 'high', 'high', 'low', 'vhigh', 'low', 'vhigh', 'low']\n",
      "\n",
      "\n",
      "Number_of_doors: \n",
      " ['2', '4', '4', '2', '3', '2', '4', '3', '2', '4', '2', '4', '2', '3', '5more', '2', '2', '5more', '3', '2', '4', '2', '5more', '2', '4', '3', '3', '3', '5more', '5more', '3', '5more', '5more', '4', '3']\n",
      "\n",
      "\n",
      "Number_of_passengers: \n",
      " ['4', 'more', 'more', 'more', '2', '2', 'more', '2', '2', '4', '2', 'more', '4', 'more', '2', 'more', '2', '4', 'more', '2', '2', '2', '4', '2', '4', 'more', '4', '4', '2', '2', '4', '4', '2', '2', '2']\n",
      "\n",
      "\n",
      "Luggage_capacity: \n",
      " ['med', 'small', 'big', 'big', 'med', 'small', 'med', 'big', 'small', 'med', 'med', 'small', 'big', 'big', 'big', 'med', 'small', 'med', 'med', 'big', 'big', 'small', 'med', 'big', 'big', 'big', 'small', 'med', 'big', 'med', 'med', 'med', 'med', 'big', 'big']\n",
      "\n",
      "\n",
      "Safety_rating: \n",
      " ['low', 'high', 'low', 'high', 'med', 'low', 'high', 'med', 'low', 'low', 'med', 'high', 'med', 'low', 'med', 'high', 'low', 'high', 'high', 'med', 'high', 'high', 'med', 'low', 'low', 'low', 'low', 'med', 'low', 'med', 'high', 'med', 'low', 'high', 'high']\n",
      "\n",
      "\n",
      "Classification_of_vehicle: \n",
      " ['unacc', 'acc', 'unacc', 'acc', 'unacc', 'unacc', 'vgood', 'unacc', 'unacc', 'unacc', 'unacc', 'acc', 'acc', 'unacc', 'unacc', 'unacc', 'unacc', 'acc', 'vgood', 'unacc', 'unacc', 'unacc', 'unacc', 'unacc', 'unacc', 'unacc', 'unacc', 'unacc', 'unacc', 'unacc', 'acc', 'unacc', 'unacc', 'unacc', 'unacc']\n"
     ]
    }
   ],
   "source": [
    "#Task 1:\n",
    "#read the file again and extract these seven attributes from each line of the file and create seven \n",
    "# distinct lists comprised solely of the values you extracted for a given attribute\n",
    "\n",
    "import csv\n",
    "#Create list\n",
    "Price_list = []\n",
    "Maintenance_cost_list = []\n",
    "Number_of_doors = []\n",
    "Number_of_passengers = []\n",
    "Luggage_capacity = []\n",
    "Safety_rating = []\n",
    "Classification_of_vehicle = []\n",
    "\n",
    "with open('/Users/johnnyzhu/Downloads/cars-sample35.txt') as csvfile: \n",
    "    readCSV = csv.reader(csvfile)\n",
    "    for row in readCSV:\n",
    "        #Use list[] to slice the elements sequently \n",
    "        Price_list.append(row[0])\n",
    "        Maintenance_cost_list.append(row[1])\n",
    "        Number_of_doors.append(row[2])\n",
    "        Number_of_passengers.append(row[3])\n",
    "        Luggage_capacity.append(row[4])\n",
    "        Safety_rating.append(row[5])\n",
    "        Classification_of_vehicle.append(row[6])\n",
    "# Use \\n to break line to make it looks more pretty         \n",
    "print (\"Price_list:\",\"\\n\",Price_list)\n",
    "print (\"\\n\")\n",
    "print (\"Maintenance_cost_list:\",\"\\n\",Maintenance_cost_list)\n",
    "print (\"\\n\")\n",
    "print (\"Number_of_doors:\",\"\\n\",Number_of_doors)\n",
    "print (\"\\n\")\n",
    "print (\"Number_of_passengers:\",\"\\n\",Number_of_passengers)\n",
    "print (\"\\n\")\n",
    "print (\"Luggage_capacity:\",\"\\n\",Luggage_capacity)\n",
    "print (\"\\n\")\n",
    "print (\"Safety_rating:\",\"\\n\",Safety_rating)\n",
    "print (\"\\n\")\n",
    "print (\"Classification_of_vehicle:\",\"\\n\",Classification_of_vehicle)"
   ]
  },
  {
   "cell_type": "code",
   "execution_count": 173,
   "metadata": {},
   "outputs": [
    {
     "name": "stdout",
     "output_type": "stream",
     "text": [
      "[6, 16, 20, 23, 26, 29]\n"
     ]
    }
   ],
   "source": [
    "#Task 2: find the list index values of each automobile having a price rating of \"med\"\n",
    "medprice_index_list = [] \n",
    "for i in range(35): #There are 35 row in total\n",
    "    if Price_list[i] == \"med\": #Use Price_list to find the location\n",
    "        medprice_index_list.append(i) #Add the index to list\n",
    "print(medpricelist)"
   ]
  },
  {
   "cell_type": "code",
   "execution_count": 186,
   "metadata": {},
   "outputs": [
    {
     "name": "stdout",
     "output_type": "stream",
     "text": [
      "['more', '2', '2', '2', '4', '2']\n"
     ]
    }
   ],
   "source": [
    "#Task 3: find the \"number of passengers\" value for each auto having a \"price\" value of \"med\"\n",
    "Number_of_passengers_value = [] \n",
    "for i in medprice_index_list: #There are 35 row in total\n",
    "    Number_of_passengers_value.append(Number_of_passengers[i]) #Use index to find the value and then add to list\n",
    "print(Number_of_passengers_value)"
   ]
  },
  {
   "cell_type": "code",
   "execution_count": 189,
   "metadata": {},
   "outputs": [
    {
     "name": "stdout",
     "output_type": "stream",
     "text": [
      "[0, 1, 2, 27, 31]\n"
     ]
    }
   ],
   "source": [
    "#Task 4: find the index value for each automobile having a price value of \"high\" and a maintenance value that is not \"low\"\n",
    "highprice_index_list = []\n",
    "highprice_notlowmain_index = [] \n",
    "for i in range(35): #There are 35 row in total\n",
    "    if Price_list[i] == \"high\": #Create a list of high price index\n",
    "        highprice_index_list.append(i)\n",
    "for j in highprice_index_list: #Use index to use the locate of maintenance cost\n",
    "    if Maintenance_cost_list[j] != \"low\":\n",
    "        highprice_notlowmain_index.append(j)\n",
    "print(highprice_notlowmain_index)"
   ]
  },
  {
   "cell_type": "code",
   "execution_count": 192,
   "metadata": {},
   "outputs": [
    {
     "name": "stdout",
     "output_type": "stream",
     "text": [
      "[3, 12, 19, 23]\n"
     ]
    }
   ],
   "source": [
    "#Task 5: find the index value for each auto having 2 doors and a luggage value of \"big\"\n",
    "twodoorlist_index = []\n",
    "twodoor_luggage_index = []\n",
    "for i in range(35): #There are 35 row in total\n",
    "    if Number_of_doors[i] == \"2\": #Create a list of number of doors index\n",
    "        twodoorlist_index.append(i)\n",
    "for j in twodoorlist_index:\n",
    "    if Luggage_capacity[j] == \"big\": # Use index to locate the big luggage\n",
    "        twodoor_luggage_index.append(j)\n",
    "print(twodoor_luggage_index)"
   ]
  },
  {
   "cell_type": "code",
   "execution_count": 213,
   "metadata": {},
   "outputs": [
    {
     "name": "stdout",
     "output_type": "stream",
     "text": [
      "Doors values: [2, 4, 4, 2, 3, 2, 4, 3, 2, 4, 2, 4, 2, 3, 5, 2, 2, 5, 3, 2, 4, 2, 5, 2, 4, 3, 3, 3, 5, 5, 3, 5, 5, 4, 3]\n",
      "Average number of doors: 3.3142857142857145\n"
     ]
    }
   ],
   "source": [
    "#Final Task : create a new list containing the only the integer equivalents of the doors values\n",
    "#convert all of the items in your list to their numeric equivalent and calculate\n",
    "#the average number of doors across all 35 autos using whichever of Python's built in functions you require. \n",
    "#Print your result.\n",
    "\n",
    "intdoorvalue = []\n",
    "for i in range(35): #There are 35 row in total\n",
    "    if Number_of_doors[i] == \"5more\": #Covert \"5more\" to 5\n",
    "        intdoorvalue.append(int(5))\n",
    "    else:\n",
    "        intdoorvalue.append(int(Number_of_doors[i])) #Covert string to Integer\n",
    "print(\"Doors values:\",intdoorvalue)\n",
    "\n",
    "print(\"Average number of doors:\",float(sum(intdoorvalue)/(35))) #Calculate the average by dividing 35"
   ]
  }
 ],
 "metadata": {
  "kernelspec": {
   "display_name": "Python 3",
   "language": "python",
   "name": "python3"
  },
  "language_info": {
   "codemirror_mode": {
    "name": "ipython",
    "version": 3
   },
   "file_extension": ".py",
   "mimetype": "text/x-python",
   "name": "python",
   "nbconvert_exporter": "python",
   "pygments_lexer": "ipython3",
   "version": "3.7.0"
  }
 },
 "nbformat": 4,
 "nbformat_minor": 2
}
