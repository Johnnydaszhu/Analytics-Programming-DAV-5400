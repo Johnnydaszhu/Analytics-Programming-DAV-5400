{
 "cells": [
  {
   "cell_type": "markdown",
   "metadata": {},
   "source": [
    "# DAV 6400 Final Project - Fish Size\n",
    "\n",
    "## Randy(Qinghao) Xia, Qihua Zhu\n",
    "\n",
    "The dataset we picked is from the *REGRESSION: Liner Regression Datasets*. The dataset cotains two independent variables and they are **the age of the fish** and **the temperature of the water** that the fish live in. One dependent variable that is the **length of a species of fish**.\n",
    "\n",
    ">\"The purpose of this project is to see if there is any relationship between two independent variables and the dependent variable.\" \n",
    "\n",
    "\n",
    "First of all, we decide to analyze the relationship between the **the age of the fish** and the **length of fish**. Therefore,\n",
    "\n",
    "Our null hypothesis is:\n",
    "The age of fish has no significant relationship with the length of fish.\n",
    "\n",
    "\n",
    "Our alternative hypothesis is:\n",
    "The age of fish has significant relationship with the length of fish.\n",
    "\n",
    "\n",
    "Then, we will analyze the relationship between the **the temperature of the water** and the **length of fish**.\n",
    "For this part,\n",
    "\n",
    "Our null hypothesis is:\n",
    "The temperature of fish has no significant relationship with the length of fish.\n",
    "\n",
    "\n",
    "Our alternative hypothesis is:\n",
    "The temperature of the water has significant relationship with the length of fish."
   ]
  },
  {
   "cell_type": "markdown",
   "metadata": {},
   "source": [
    "# Inspection of the data\n",
    "\n",
    "Here we inspect and describe each variable of the data.\n",
    "\n",
    "The dataset is from the website called *REGRESSION: Liner Regression Datasets*. This dataset cotains three columns and 44 rows that collect the infomation of the age of fish, water temperature, and the length of fish. The original data is from *Mathematical Agorithmes ofr Linear Regression* written by Helmut Spaeth, and *Regression Methods* written by R J Freund and P D Minton. We will include the external citation under Reference page.\n",
    "\n",
    "The age of the fish shows how long the fish has been born, it is counted in the days. For example, the first row in the Age of fish column is 14 which means the is 14 days old.\n",
    "\n",
    "The temperature of wate column cotains the data of how warm the water is in term of degrees Celsius. For instant, the first 10 rows are all 25, and this means that the water temperature for the first 10 rows are all 25 Celsius degrees.\n",
    "\n",
    "The length of fish column cotains the data that shows how long a species of fish are in term of millimeter.\n",
    "\n",
    "The form of the model we think for thi dataset is:\n",
    "B = A1 * X1 + A2 *X2"
   ]
  },
  {
   "cell_type": "markdown",
   "metadata": {},
   "source": [
    "## Step 1: Import modules"
   ]
  },
  {
   "cell_type": "code",
   "execution_count": 14,
   "metadata": {},
   "outputs": [],
   "source": [
    "import numpy as np\n",
    "import pandas as pd\n",
    "import statsmodels.api as sm\n",
    "import matplotlib.pyplot as plt\n",
    "from patsy import dmatrices\n",
    "from sklearn.linear_model import LogisticRegression\n",
    "from sklearn.model_selection import train_test_split\n",
    "from sklearn import metrics\n",
    "from sklearn.model_selection import cross_val_score"
   ]
  },
  {
   "cell_type": "code",
   "execution_count": 15,
   "metadata": {},
   "outputs": [],
   "source": [
    "# load the dataset\n",
    "df = pd.read_csv(\"https://raw.githubusercontent.com/qxia2/DAV.5400/master/Fish.csv\")"
   ]
  },
  {
   "cell_type": "markdown",
   "metadata": {},
   "source": [
    "## Line by Line\n",
    "\n",
    "\n"
   ]
  },
  {
   "cell_type": "code",
   "execution_count": 16,
   "metadata": {},
   "outputs": [
    {
     "data": {
      "text/html": [
       "<div>\n",
       "<style scoped>\n",
       "    .dataframe tbody tr th:only-of-type {\n",
       "        vertical-align: middle;\n",
       "    }\n",
       "\n",
       "    .dataframe tbody tr th {\n",
       "        vertical-align: top;\n",
       "    }\n",
       "\n",
       "    .dataframe thead th {\n",
       "        text-align: right;\n",
       "    }\n",
       "</style>\n",
       "<table border=\"1\" class=\"dataframe\">\n",
       "  <thead>\n",
       "    <tr style=\"text-align: right;\">\n",
       "      <th></th>\n",
       "      <th>Age_of_fish</th>\n",
       "      <th>Temperature_of_water</th>\n",
       "      <th>Length_of_fish</th>\n",
       "    </tr>\n",
       "  </thead>\n",
       "  <tbody>\n",
       "    <tr>\n",
       "      <th>0</th>\n",
       "      <td>14</td>\n",
       "      <td>25</td>\n",
       "      <td>620</td>\n",
       "    </tr>\n",
       "    <tr>\n",
       "      <th>1</th>\n",
       "      <td>28</td>\n",
       "      <td>25</td>\n",
       "      <td>1315</td>\n",
       "    </tr>\n",
       "    <tr>\n",
       "      <th>2</th>\n",
       "      <td>41</td>\n",
       "      <td>25</td>\n",
       "      <td>2120</td>\n",
       "    </tr>\n",
       "    <tr>\n",
       "      <th>3</th>\n",
       "      <td>55</td>\n",
       "      <td>25</td>\n",
       "      <td>2600</td>\n",
       "    </tr>\n",
       "    <tr>\n",
       "      <th>4</th>\n",
       "      <td>69</td>\n",
       "      <td>25</td>\n",
       "      <td>3110</td>\n",
       "    </tr>\n",
       "    <tr>\n",
       "      <th>5</th>\n",
       "      <td>83</td>\n",
       "      <td>25</td>\n",
       "      <td>3535</td>\n",
       "    </tr>\n",
       "    <tr>\n",
       "      <th>6</th>\n",
       "      <td>97</td>\n",
       "      <td>25</td>\n",
       "      <td>3935</td>\n",
       "    </tr>\n",
       "    <tr>\n",
       "      <th>7</th>\n",
       "      <td>111</td>\n",
       "      <td>25</td>\n",
       "      <td>4465</td>\n",
       "    </tr>\n",
       "    <tr>\n",
       "      <th>8</th>\n",
       "      <td>125</td>\n",
       "      <td>25</td>\n",
       "      <td>4530</td>\n",
       "    </tr>\n",
       "    <tr>\n",
       "      <th>9</th>\n",
       "      <td>139</td>\n",
       "      <td>25</td>\n",
       "      <td>4570</td>\n",
       "    </tr>\n",
       "    <tr>\n",
       "      <th>10</th>\n",
       "      <td>153</td>\n",
       "      <td>25</td>\n",
       "      <td>4600</td>\n",
       "    </tr>\n",
       "    <tr>\n",
       "      <th>11</th>\n",
       "      <td>14</td>\n",
       "      <td>27</td>\n",
       "      <td>625</td>\n",
       "    </tr>\n",
       "    <tr>\n",
       "      <th>12</th>\n",
       "      <td>28</td>\n",
       "      <td>27</td>\n",
       "      <td>1215</td>\n",
       "    </tr>\n",
       "    <tr>\n",
       "      <th>13</th>\n",
       "      <td>41</td>\n",
       "      <td>27</td>\n",
       "      <td>2110</td>\n",
       "    </tr>\n",
       "    <tr>\n",
       "      <th>14</th>\n",
       "      <td>55</td>\n",
       "      <td>27</td>\n",
       "      <td>2805</td>\n",
       "    </tr>\n",
       "    <tr>\n",
       "      <th>15</th>\n",
       "      <td>69</td>\n",
       "      <td>27</td>\n",
       "      <td>3255</td>\n",
       "    </tr>\n",
       "    <tr>\n",
       "      <th>16</th>\n",
       "      <td>83</td>\n",
       "      <td>27</td>\n",
       "      <td>4015</td>\n",
       "    </tr>\n",
       "    <tr>\n",
       "      <th>17</th>\n",
       "      <td>97</td>\n",
       "      <td>27</td>\n",
       "      <td>4315</td>\n",
       "    </tr>\n",
       "    <tr>\n",
       "      <th>18</th>\n",
       "      <td>111</td>\n",
       "      <td>27</td>\n",
       "      <td>4495</td>\n",
       "    </tr>\n",
       "    <tr>\n",
       "      <th>19</th>\n",
       "      <td>125</td>\n",
       "      <td>27</td>\n",
       "      <td>4535</td>\n",
       "    </tr>\n",
       "    <tr>\n",
       "      <th>20</th>\n",
       "      <td>139</td>\n",
       "      <td>27</td>\n",
       "      <td>4600</td>\n",
       "    </tr>\n",
       "    <tr>\n",
       "      <th>21</th>\n",
       "      <td>153</td>\n",
       "      <td>27</td>\n",
       "      <td>4600</td>\n",
       "    </tr>\n",
       "    <tr>\n",
       "      <th>22</th>\n",
       "      <td>14</td>\n",
       "      <td>29</td>\n",
       "      <td>590</td>\n",
       "    </tr>\n",
       "    <tr>\n",
       "      <th>23</th>\n",
       "      <td>28</td>\n",
       "      <td>29</td>\n",
       "      <td>1305</td>\n",
       "    </tr>\n",
       "    <tr>\n",
       "      <th>24</th>\n",
       "      <td>41</td>\n",
       "      <td>29</td>\n",
       "      <td>2140</td>\n",
       "    </tr>\n",
       "    <tr>\n",
       "      <th>25</th>\n",
       "      <td>55</td>\n",
       "      <td>29</td>\n",
       "      <td>2890</td>\n",
       "    </tr>\n",
       "    <tr>\n",
       "      <th>26</th>\n",
       "      <td>69</td>\n",
       "      <td>29</td>\n",
       "      <td>3920</td>\n",
       "    </tr>\n",
       "    <tr>\n",
       "      <th>27</th>\n",
       "      <td>83</td>\n",
       "      <td>29</td>\n",
       "      <td>3920</td>\n",
       "    </tr>\n",
       "    <tr>\n",
       "      <th>28</th>\n",
       "      <td>97</td>\n",
       "      <td>29</td>\n",
       "      <td>4515</td>\n",
       "    </tr>\n",
       "    <tr>\n",
       "      <th>29</th>\n",
       "      <td>111</td>\n",
       "      <td>29</td>\n",
       "      <td>4520</td>\n",
       "    </tr>\n",
       "    <tr>\n",
       "      <th>30</th>\n",
       "      <td>125</td>\n",
       "      <td>29</td>\n",
       "      <td>4525</td>\n",
       "    </tr>\n",
       "    <tr>\n",
       "      <th>31</th>\n",
       "      <td>139</td>\n",
       "      <td>29</td>\n",
       "      <td>4565</td>\n",
       "    </tr>\n",
       "    <tr>\n",
       "      <th>32</th>\n",
       "      <td>153</td>\n",
       "      <td>29</td>\n",
       "      <td>4566</td>\n",
       "    </tr>\n",
       "    <tr>\n",
       "      <th>33</th>\n",
       "      <td>14</td>\n",
       "      <td>31</td>\n",
       "      <td>590</td>\n",
       "    </tr>\n",
       "    <tr>\n",
       "      <th>34</th>\n",
       "      <td>28</td>\n",
       "      <td>31</td>\n",
       "      <td>1205</td>\n",
       "    </tr>\n",
       "    <tr>\n",
       "      <th>35</th>\n",
       "      <td>41</td>\n",
       "      <td>31</td>\n",
       "      <td>1915</td>\n",
       "    </tr>\n",
       "    <tr>\n",
       "      <th>36</th>\n",
       "      <td>55</td>\n",
       "      <td>31</td>\n",
       "      <td>2140</td>\n",
       "    </tr>\n",
       "    <tr>\n",
       "      <th>37</th>\n",
       "      <td>69</td>\n",
       "      <td>31</td>\n",
       "      <td>2710</td>\n",
       "    </tr>\n",
       "    <tr>\n",
       "      <th>38</th>\n",
       "      <td>83</td>\n",
       "      <td>31</td>\n",
       "      <td>3020</td>\n",
       "    </tr>\n",
       "    <tr>\n",
       "      <th>39</th>\n",
       "      <td>97</td>\n",
       "      <td>31</td>\n",
       "      <td>3030</td>\n",
       "    </tr>\n",
       "    <tr>\n",
       "      <th>40</th>\n",
       "      <td>111</td>\n",
       "      <td>31</td>\n",
       "      <td>3040</td>\n",
       "    </tr>\n",
       "    <tr>\n",
       "      <th>41</th>\n",
       "      <td>125</td>\n",
       "      <td>31</td>\n",
       "      <td>3180</td>\n",
       "    </tr>\n",
       "    <tr>\n",
       "      <th>42</th>\n",
       "      <td>139</td>\n",
       "      <td>31</td>\n",
       "      <td>3257</td>\n",
       "    </tr>\n",
       "    <tr>\n",
       "      <th>43</th>\n",
       "      <td>153</td>\n",
       "      <td>31</td>\n",
       "      <td>3214</td>\n",
       "    </tr>\n",
       "  </tbody>\n",
       "</table>\n",
       "</div>"
      ],
      "text/plain": [
       "    Age_of_fish  Temperature_of_water  Length_of_fish\n",
       "0            14                    25             620\n",
       "1            28                    25            1315\n",
       "2            41                    25            2120\n",
       "3            55                    25            2600\n",
       "4            69                    25            3110\n",
       "5            83                    25            3535\n",
       "6            97                    25            3935\n",
       "7           111                    25            4465\n",
       "8           125                    25            4530\n",
       "9           139                    25            4570\n",
       "10          153                    25            4600\n",
       "11           14                    27             625\n",
       "12           28                    27            1215\n",
       "13           41                    27            2110\n",
       "14           55                    27            2805\n",
       "15           69                    27            3255\n",
       "16           83                    27            4015\n",
       "17           97                    27            4315\n",
       "18          111                    27            4495\n",
       "19          125                    27            4535\n",
       "20          139                    27            4600\n",
       "21          153                    27            4600\n",
       "22           14                    29             590\n",
       "23           28                    29            1305\n",
       "24           41                    29            2140\n",
       "25           55                    29            2890\n",
       "26           69                    29            3920\n",
       "27           83                    29            3920\n",
       "28           97                    29            4515\n",
       "29          111                    29            4520\n",
       "30          125                    29            4525\n",
       "31          139                    29            4565\n",
       "32          153                    29            4566\n",
       "33           14                    31             590\n",
       "34           28                    31            1205\n",
       "35           41                    31            1915\n",
       "36           55                    31            2140\n",
       "37           69                    31            2710\n",
       "38           83                    31            3020\n",
       "39           97                    31            3030\n",
       "40          111                    31            3040\n",
       "41          125                    31            3180\n",
       "42          139                    31            3257\n",
       "43          153                    31            3214"
      ]
     },
     "execution_count": 16,
     "metadata": {},
     "output_type": "execute_result"
    }
   ],
   "source": [
    "df"
   ]
  },
  {
   "cell_type": "markdown",
   "metadata": {},
   "source": [
    "## Summary Statistics\n",
    "\n",
    "According to the summary, we can tell that our data contains 44 rows of three variables. Based on the data dictionary, we understand that there are 44 species of fish cotained in this dataset. Now let us take a look into each variables.\n",
    "\n",
    "First of all, the statistics results of the age of fish column show that the youngest fish species in this dataset is only 14 days old while the oldest fish species is 153 days old. The average age of fish is around 83 days. The standard devation of the age of fish is around 45 days. The middle value of lower half(25 percent quantiles) is 41 days, and the middle value of the upper half or lowest 75 percent of data is 125 days.\n",
    "\n",
    "Also, the results of water temperature show that the lowest temperature is 25 celsius degrees, the highest temperature is 31 celsius degrees. The average temperature is 28 celsius degrees. The standard devation of the water temperature is 2.26 celsius degrees. The mean the water temperature is either positive 2.26 celsius degrees or negative 2.26 celsius degrees depart from the average water temperature. The 25 percent quantile for water temperature data is 26.5 celsius degrees, and the middle value of lowest 75 percent of water temperature data is 29.5 celsius degrees.\n",
    "\n",
    "Lastly, the results of length of fish show that the shortest fish species is about 590 millimeters while the longest fish species is 4,600 milimeters. The average length is abount 3,107 millimeters. The standard devation is around 1,328 millimeters. The 25 percent quantile for length of fish is 2,135 millimeters, and the 75 percent quantile for length of fish is 4,500 millimeters.  "
   ]
  },
  {
   "cell_type": "code",
   "execution_count": 17,
   "metadata": {},
   "outputs": [
    {
     "data": {
      "text/html": [
       "<div>\n",
       "<style scoped>\n",
       "    .dataframe tbody tr th:only-of-type {\n",
       "        vertical-align: middle;\n",
       "    }\n",
       "\n",
       "    .dataframe tbody tr th {\n",
       "        vertical-align: top;\n",
       "    }\n",
       "\n",
       "    .dataframe thead th {\n",
       "        text-align: right;\n",
       "    }\n",
       "</style>\n",
       "<table border=\"1\" class=\"dataframe\">\n",
       "  <thead>\n",
       "    <tr style=\"text-align: right;\">\n",
       "      <th></th>\n",
       "      <th>Age_of_fish</th>\n",
       "      <th>Temperature_of_water</th>\n",
       "      <th>Length_of_fish</th>\n",
       "    </tr>\n",
       "  </thead>\n",
       "  <tbody>\n",
       "    <tr>\n",
       "      <th>count</th>\n",
       "      <td>44.000000</td>\n",
       "      <td>44.000000</td>\n",
       "      <td>44.000000</td>\n",
       "    </tr>\n",
       "    <tr>\n",
       "      <th>mean</th>\n",
       "      <td>83.181818</td>\n",
       "      <td>28.000000</td>\n",
       "      <td>3107.431818</td>\n",
       "    </tr>\n",
       "    <tr>\n",
       "      <th>std</th>\n",
       "      <td>44.522935</td>\n",
       "      <td>2.261919</td>\n",
       "      <td>1328.962883</td>\n",
       "    </tr>\n",
       "    <tr>\n",
       "      <th>min</th>\n",
       "      <td>14.000000</td>\n",
       "      <td>25.000000</td>\n",
       "      <td>590.000000</td>\n",
       "    </tr>\n",
       "    <tr>\n",
       "      <th>25%</th>\n",
       "      <td>41.000000</td>\n",
       "      <td>26.500000</td>\n",
       "      <td>2135.000000</td>\n",
       "    </tr>\n",
       "    <tr>\n",
       "      <th>50%</th>\n",
       "      <td>83.000000</td>\n",
       "      <td>28.000000</td>\n",
       "      <td>3197.000000</td>\n",
       "    </tr>\n",
       "    <tr>\n",
       "      <th>75%</th>\n",
       "      <td>125.000000</td>\n",
       "      <td>29.500000</td>\n",
       "      <td>4500.000000</td>\n",
       "    </tr>\n",
       "    <tr>\n",
       "      <th>max</th>\n",
       "      <td>153.000000</td>\n",
       "      <td>31.000000</td>\n",
       "      <td>4600.000000</td>\n",
       "    </tr>\n",
       "  </tbody>\n",
       "</table>\n",
       "</div>"
      ],
      "text/plain": [
       "       Age_of_fish  Temperature_of_water  Length_of_fish\n",
       "count    44.000000             44.000000       44.000000\n",
       "mean     83.181818             28.000000     3107.431818\n",
       "std      44.522935              2.261919     1328.962883\n",
       "min      14.000000             25.000000      590.000000\n",
       "25%      41.000000             26.500000     2135.000000\n",
       "50%      83.000000             28.000000     3197.000000\n",
       "75%     125.000000             29.500000     4500.000000\n",
       "max     153.000000             31.000000     4600.000000"
      ]
     },
     "execution_count": 17,
     "metadata": {},
     "output_type": "execute_result"
    }
   ],
   "source": [
    "df.describe()"
   ]
  },
  {
   "cell_type": "markdown",
   "metadata": {},
   "source": [
    "# Visual Inspection of the data\n",
    "\n",
    "From the first boxplot of the data we could hardly see the chart of age of the fish and water teamperature due to the large difference in the numbers in each column. Therefore, we decide that we should drow the chart individually."
   ]
  },
  {
   "cell_type": "code",
   "execution_count": 18,
   "metadata": {},
   "outputs": [
    {
     "data": {
      "text/plain": [
       "<matplotlib.axes._subplots.AxesSubplot at 0x1c201360b8>"
      ]
     },
     "execution_count": 18,
     "metadata": {},
     "output_type": "execute_result"
    },
    {
     "data": {
      "image/png": "[encoded data removed]",
      "text/plain": [
       "<Figure size 432x288 with 1 Axes>"
      ]
     },
     "metadata": {
      "needs_background": "light"
     },
     "output_type": "display_data"
    }
   ],
   "source": [
    "import seaborn as sns\n",
    "\n",
    "sns.boxplot(data=df)"
   ]
  },
  {
   "cell_type": "markdown",
   "metadata": {},
   "source": [
    "According to the boxplot below, the data in the age of fish column is normally distributed since 25 percent quantile line and 75 percent quantile line are both around 40 days apart from the 50 percent quantile line."
   ]
  },
  {
   "cell_type": "code",
   "execution_count": 19,
   "metadata": {},
   "outputs": [
    {
     "data": {
      "text/plain": [
       "<matplotlib.axes._subplots.AxesSubplot at 0x1c201a59b0>"
      ]
     },
     "execution_count": 19,
     "metadata": {},
     "output_type": "execute_result"
    },
    {
     "data": {
      "image/png": "[encoded data removed]",
      "text/plain": [
       "<Figure size 432x288 with 1 Axes>"
      ]
     },
     "metadata": {
      "needs_background": "light"
     },
     "output_type": "display_data"
    }
   ],
   "source": [
    "sns.boxplot(data=df['Age_of_fish'])"
   ]
  },
  {
   "cell_type": "markdown",
   "metadata": {},
   "source": [
    "According to the boxplot below, the data in the water temperature column is normally distributed since 25 percent quantile line and 75 percent quantile line are both around 1.5 celsius degrees apart from the 28 celsius degrees which is 50 percent quantile line."
   ]
  },
  {
   "cell_type": "code",
   "execution_count": 20,
   "metadata": {},
   "outputs": [
    {
     "data": {
      "text/plain": [
       "<matplotlib.axes._subplots.AxesSubplot at 0x1c202c99e8>"
      ]
     },
     "execution_count": 20,
     "metadata": {},
     "output_type": "execute_result"
    },
    {
     "data": {
      "image/png": "[encoded data removed]",
      "text/plain": [
       "<Figure size 432x288 with 1 Axes>"
      ]
     },
     "metadata": {
      "needs_background": "light"
     },
     "output_type": "display_data"
    }
   ],
   "source": [
    "sns.boxplot(data=df['Temperature_of_water'])"
   ]
  },
  {
   "cell_type": "markdown",
   "metadata": {},
   "source": [
    "The boxplot of the length of fish shows that there is a left skewed distribution exist since most data are fall between the 50 percent quantile and 75 percent quantile. One of other way to tell this is a left skewed distribution is that the average length is 3,107 millimeters and this is 90 millimeters less than the 3,197 median. Therefore, the distrbution chart would be left skewed but very close to the normanl distribution."
   ]
  },
  {
   "cell_type": "code",
   "execution_count": 21,
   "metadata": {},
   "outputs": [
    {
     "data": {
      "text/plain": [
       "<matplotlib.axes._subplots.AxesSubplot at 0x1c2038d710>"
      ]
     },
     "execution_count": 21,
     "metadata": {},
     "output_type": "execute_result"
    },
    {
     "data": {
      "image/png": "[encoded data removed]",
      "text/plain": [
       "<Figure size 432x288 with 1 Axes>"
      ]
     },
     "metadata": {
      "needs_background": "light"
     },
     "output_type": "display_data"
    }
   ],
   "source": [
    "sns.boxplot(data=df['Length_of_fish'])"
   ]
  },
  {
   "cell_type": "code",
   "execution_count": 22,
   "metadata": {},
   "outputs": [
    {
     "data": {
      "text/plain": [
       "<seaborn.axisgrid.PairGrid at 0x1c204493c8>"
      ]
     },
     "execution_count": 22,
     "metadata": {},
     "output_type": "execute_result"
    },
    {
     "data": {
      "image/png": "[encoded data removed]",
      "text/plain": [
       "<Figure size 540x540 with 12 Axes>"
      ]
     },
     "metadata": {
      "needs_background": "light"
     },
     "output_type": "display_data"
    }
   ],
   "source": [
    "import seaborn as sns\n",
    "sns.pairplot(df)"
   ]
  },
  {
   "cell_type": "markdown",
   "metadata": {},
   "source": [
    "The above plots show us histograms of each dataset, and scatterplots of their relationships between each other.\n",
    "\n",
    "Does the variable we want to predict (y) have a relationship with the first X variable? What about the other two pairs?\n",
    "Base on the observation of the plots, we predict that there is a strong positive relationship between the age of fish and the length of a species of fish. Also, we predict that there is no relationship between the water temperature a species of fish live in and the length of fish. Although there are some outliners shown in the scatterplot of length of fish and age of fish. It is still clear that there is a strong relationship between the age and the length of the fish. The scattorplots of other two variables don't show any relationship between each other.  \n",
    "\n",
    "Also according to the histogram, we find that the data of age of fish is right-skewed distributed, the data of  length of fish is left-skewed distrubuted, and the water temperature data is uniformly distribution. The results of distribution based on observation of the histograms of age of fish and water temperature don't agree with the results based on boxplot observation. Therefore we decide follow the result of histograms since they are more intuitive.  "
   ]
  },
  {
   "cell_type": "markdown",
   "metadata": {},
   "source": [
    "# Tables of Regression Results"
   ]
  },
  {
   "cell_type": "code",
   "execution_count": 23,
   "metadata": {},
   "outputs": [
    {
     "name": "stdout",
     "output_type": "stream",
     "text": [
      "                            OLS Regression Results                            \n",
      "==============================================================================\n",
      "Dep. Variable:         Length_of_fish   R-squared:                       0.773\n",
      "Model:                            OLS   Adj. R-squared:                  0.767\n",
      "Method:                 Least Squares   F-statistic:                     142.9\n",
      "Date:                Thu, 02 May 2019   Prob (F-statistic):           4.20e-15\n",
      "Time:                        14:25:41   Log-Likelihood:                -345.78\n",
      "No. Observations:                  44   AIC:                             695.6\n",
      "Df Residuals:                      42   BIC:                             699.1\n",
      "Df Model:                           1                                         \n",
      "Covariance Type:            nonrobust                                         \n",
      "===============================================================================\n",
      "                  coef    std err          t      P>|t|      [0.025      0.975]\n",
      "-------------------------------------------------------------------------------\n",
      "const         924.6842    206.584      4.476      0.000     507.781    1341.587\n",
      "Age_of_fish    26.2407      2.195     11.954      0.000      21.811      30.671\n",
      "==============================================================================\n",
      "Omnibus:                        1.701   Durbin-Watson:                   0.261\n",
      "Prob(Omnibus):                  0.427   Jarque-Bera (JB):                1.273\n",
      "Skew:                          -0.417   Prob(JB):                        0.529\n",
      "Kurtosis:                       2.978   Cond. No.                         201.\n",
      "==============================================================================\n",
      "\n",
      "Warnings:\n",
      "[1] Standard Errors assume that the covariance matrix of the errors is correctly specified.\n"
     ]
    }
   ],
   "source": [
    "model = sm.OLS(df['Length_of_fish'], sm.add_constant(df['Age_of_fish']))\n",
    "results = model.fit()\n",
    "print(results.summary())"
   ]
  },
  {
   "cell_type": "markdown",
   "metadata": {},
   "source": [
    "The R-squared number in OLS regression results based on the relationship between the length and age of fish is about 77.3 percent. This means that we are about 77.3 percent correct if we predict that the age of fish can affect the length of fish. Since the P-vaule is less than 0.05, we think that the length of fish is affected by the age of fish."
   ]
  },
  {
   "cell_type": "code",
   "execution_count": 24,
   "metadata": {
    "scrolled": true
   },
   "outputs": [
    {
     "name": "stdout",
     "output_type": "stream",
     "text": [
      "                            OLS Regression Results                            \n",
      "==============================================================================\n",
      "Dep. Variable:         Length_of_fish   R-squared:                       0.033\n",
      "Model:                            OLS   Adj. R-squared:                  0.010\n",
      "Method:                 Least Squares   F-statistic:                     1.424\n",
      "Date:                Thu, 02 May 2019   Prob (F-statistic):              0.239\n",
      "Time:                        14:25:41   Log-Likelihood:                -377.65\n",
      "No. Observations:                  44   AIC:                             759.3\n",
      "Df Residuals:                      42   BIC:                             762.9\n",
      "Df Model:                           1                                         \n",
      "Covariance Type:            nonrobust                                         \n",
      "========================================================================================\n",
      "                           coef    std err          t      P>|t|      [0.025      0.975]\n",
      "----------------------------------------------------------------------------------------\n",
      "const                 6087.0136   2504.419      2.431      0.019    1032.892    1.11e+04\n",
      "Temperature_of_water  -106.4136     89.160     -1.194      0.239    -286.345      73.518\n",
      "==============================================================================\n",
      "Omnibus:                        4.911   Durbin-Watson:                   0.709\n",
      "Prob(Omnibus):                  0.086   Jarque-Bera (JB):                3.953\n",
      "Skew:                          -0.620   Prob(JB):                        0.139\n",
      "Kurtosis:                       2.215   Cond. No.                         353.\n",
      "==============================================================================\n",
      "\n",
      "Warnings:\n",
      "[1] Standard Errors assume that the covariance matrix of the errors is correctly specified.\n"
     ]
    }
   ],
   "source": [
    "model = sm.OLS(df['Length_of_fish'], sm.add_constant(df['Temperature_of_water']))\n",
    "results = model.fit()\n",
    "print(results.summary())"
   ]
  },
  {
   "cell_type": "markdown",
   "metadata": {},
   "source": [
    "The R-squared score is only about 3.3 percent. This means we only have 3.3 percent change correct if we predict that the length of fish affected by the water temperature. Also, the P-value is more than 0.05, thus we reject the hypothesis that there is a relationship bwtween the water temperature and length of fish."
   ]
  },
  {
   "cell_type": "markdown",
   "metadata": {},
   "source": [
    "# Analysis, Qualitative and Quantitative\n",
    "According to the result that p-value is less than 0.05 for the relationship betweenn Length_of_fish and Age_of_fish,  there is a strong positive relationship between the data we have examined."
   ]
  },
  {
   "cell_type": "code",
   "execution_count": 36,
   "metadata": {
    "scrolled": true
   },
   "outputs": [],
   "source": [
    "from sympy import init_printing, Matrix, Symbol, Function\n",
    "\n",
    "x = Symbol('x')\n",
    "f = Function('f')\n",
    "\n",
    "def f(x):\n",
    "    return x*26.2407 + 924.6842"
   ]
  },
  {
   "cell_type": "code",
   "execution_count": 37,
   "metadata": {
    "scrolled": true
   },
   "outputs": [
    {
     "data": {
      "image/png": "[encoded data removed]",
      "text/latex": [
       "$$\\left ( 1187.0912, \\quad 1449.4982, \\quad 2236.7192, \\quad 3548.7542000000003\\right )$$"
      ],
      "text/plain": [
       "(1187.0912, 1449.4982, 2236.7192, 3548.7542000000003)"
      ]
     },
     "execution_count": 37,
     "metadata": {},
     "output_type": "execute_result"
    }
   ],
   "source": [
    "f(10),f(20),f(50),f(100)"
   ]
  },
  {
   "cell_type": "markdown",
   "metadata": {},
   "source": [
    "We also examined the model by feeding back some sample numbers of age of fish from 10 to 100 and the result are close to the acutal data."
   ]
  },
  {
   "cell_type": "markdown",
   "metadata": {},
   "source": [
    "## A New Framework of Analysis"
   ]
  },
  {
   "cell_type": "code",
   "execution_count": null,
   "metadata": {},
   "outputs": [],
   "source": []
  },
  {
   "cell_type": "markdown",
   "metadata": {},
   "source": [
    "# Final Conclusions\n",
    "\n",
    "So we rejected the null hypothesis that the age of fish has no significant relationship with the length of fish annd failed to reject the null hypothesis that The temperature of the water has significant relationship with the length of fish.\n",
    "\n",
    "The reason is the first one has the P-value is 0.000 which is less than 0.05 and the second P-value is 0.239 which is more than 0.05\n",
    "\n",
    "Since the R-squared of first model is 0.773 so the result is pretty convincing.\n",
    "\n",
    "Also, according to another research that about the relationship between age of fish and their length from Manual of fisheries survey methods II, our result is quite reasonable."
   ]
  },
  {
   "cell_type": "markdown",
   "metadata": {},
   "source": [
    "# Reference\n",
    "\n",
    "Schneider, James C., P. W. Laarman, and H. Gowing. 2000. Age and growth methods and\n",
    "state averages. Chapter 9 in Schneider, James C. (ed.) 2000. Manual of fisheries survey\n",
    "methods II: with periodic updates. Michigan Department of Natural Resources, Fisheries\n",
    "Special Report 25, Ann Arbor.\n",
    "\n",
    "Amrhein, V., Greenland, S., & McShane, B. (2019, March 20). Scientists rise up against statistical significance. Retrieved May 2, 2019, from https://www.nature.com/articles/d41586-019-00857-9"
   ]
  },
  {
   "cell_type": "code",
   "execution_count": null,
   "metadata": {},
   "outputs": [],
   "source": []
  }
 ],
 "metadata": {
  "kernelspec": {
   "display_name": "Python 3",
   "language": "python",
   "name": "python3"
  },
  "language_info": {
   "codemirror_mode": {
    "name": "ipython",
    "version": 3
   },
   "file_extension": ".py",
   "mimetype": "text/x-python",
   "name": "python",
   "nbconvert_exporter": "python",
   "pygments_lexer": "ipython3",
   "version": "3.7.2"
  }
 },
 "nbformat": 4,
 "nbformat_minor": 2
}
